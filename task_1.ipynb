{
 "cells": [
  {
   "cell_type": "markdown",
   "metadata": {},
   "source": [
    "# Task 1 - Setting up the Modelling Environment\n",
    "\n",
    "In the following, we are showing our modelling environment, namely the `CellularAutomaton` class and the `GUI` that makes use of that."
   ]
  },
  {
   "cell_type": "markdown",
   "metadata": {},
   "source": [
    "# 1. The `CellularAutomaton` class"
   ]
  },
  {
   "cell_type": "code",
   "execution_count": 1,
   "metadata": {},
   "outputs": [],
   "source": [
    "from helpers.cellular_automaton import CellularAutomaton, fill_from_scenario_file"
   ]
  },
  {
   "cell_type": "markdown",
   "metadata": {},
   "source": [
    "## 1.1 Creating a simulation environment"
   ]
  },
  {
   "cell_type": "markdown",
   "metadata": {},
   "source": [
    "### 1.1.1 ... from scratch"
   ]
  },
  {
   "cell_type": "code",
   "execution_count": 2,
   "metadata": {},
   "outputs": [
    {
     "name": "stdout",
     "output_type": "stream",
     "text": [
      "Iteration: 0\n",
      "[                      ]\n",
      "[         O  O         ]\n",
      "[   P        O     T   ]\n",
      "[         O  O         ]\n",
      "[                      ]\n"
     ]
    }
   ],
   "source": [
    "# defining a grid with a fixed size\n",
    "myFirstCellularAutomaton = CellularAutomaton(grid_size=(5, 8))\n",
    "\n",
    "# adding obstacles that are not accessible\n",
    "myFirstCellularAutomaton.add_obstacle(pos_idx=(1, 3))\n",
    "myFirstCellularAutomaton.add_obstacle(pos_idx=(1, 4))\n",
    "myFirstCellularAutomaton.add_obstacle(pos_idx=(2, 4))\n",
    "myFirstCellularAutomaton.add_obstacle(pos_idx=(3, 4))\n",
    "myFirstCellularAutomaton.add_obstacle(pos_idx=(3, 3))\n",
    "\n",
    "# adding pedestrian with desired speed [cell_unit / iteration]\n",
    "myFirstCellularAutomaton.add_pedestrian(pos_idx=(2, 1), speed_desired=1.0)\n",
    "\n",
    "# add a target\n",
    "myFirstCellularAutomaton.add_target(pos_idx=(2, 6))\n",
    "\n",
    "# visualize\n",
    "print(f'Iteration: {myFirstCellularAutomaton.curr_iter}')\n",
    "myFirstCellularAutomaton.visualize_state_grid()"
   ]
  },
  {
   "cell_type": "markdown",
   "metadata": {},
   "source": [
    "### 1.1.2 ... from a `scenario.csv` file"
   ]
  },
  {
   "cell_type": "code",
   "execution_count": 3,
   "metadata": {},
   "outputs": [
    {
     "name": "stdout",
     "output_type": "stream",
     "text": [
      "[                      ]\n",
      "[         O  O         ]\n",
      "[   P        O     T   ]\n",
      "[         O  O         ]\n",
      "[                      ]\n"
     ]
    }
   ],
   "source": [
    "# load the `.csv` file (take a look at the file to see the required columns)\n",
    "mySecondCellularAutomaton = fill_from_scenario_file('scenario_files/tasks/scenario_task_1.csv')\n",
    "\n",
    "# and visiualize\n",
    "mySecondCellularAutomaton.visualize_state_grid()"
   ]
  },
  {
   "cell_type": "markdown",
   "metadata": {},
   "source": [
    "## 1.2 Running the simulation\n",
    "\n",
    "One can either choose to explicitely simulate n-iteration steps, or run the simulation until no further change is happening."
   ]
  },
  {
   "cell_type": "markdown",
   "metadata": {},
   "source": [
    "### 1.2.1 n-explicit steps\n",
    "\n",
    "Run below cell several times to see the progress."
   ]
  },
  {
   "cell_type": "code",
   "execution_count": 4,
   "metadata": {},
   "outputs": [
    {
     "name": "stdout",
     "output_type": "stream",
     "text": [
      "[                      ]\n",
      "[      P  O  O         ]\n",
      "[            O     T   ]\n",
      "[         O  O         ]\n",
      "[                      ]\n"
     ]
    }
   ],
   "source": [
    "# simulate the next iteration step\n",
    "myFirstCellularAutomaton.simulate_next_n(\n",
    "    n=1, \n",
    "    stop_when_no_change=True, \n",
    "    smart_obstacle_avoidance=True, \n",
    "    target_absorbs=True\n",
    ")\n",
    "\n",
    "# visualize the current iteration step\n",
    "myFirstCellularAutomaton.visualize_state_grid()"
   ]
  },
  {
   "cell_type": "markdown",
   "metadata": {},
   "source": [
    "### 1.2.2 until no further change is detected\n",
    "\n",
    "Directly run the simulation until no further changes are detected = finish state."
   ]
  },
  {
   "cell_type": "code",
   "execution_count": 5,
   "metadata": {},
   "outputs": [
    {
     "name": "stdout",
     "output_type": "stream",
     "text": [
      "Iteration 0:\n",
      "[                      ]\n",
      "[         O  O         ]\n",
      "[   P        O     T   ]\n",
      "[         O  O         ]\n",
      "[                      ]\n",
      "\n",
      "Iteration 1:\n",
      "[                      ]\n",
      "[      P  O  O         ]\n",
      "[            O     T   ]\n",
      "[         O  O         ]\n",
      "[                      ]\n",
      "\n",
      "Iteration 2:\n",
      "[                      ]\n",
      "[      P  O  O         ]\n",
      "[            O     T   ]\n",
      "[         O  O         ]\n",
      "[                      ]\n",
      "\n",
      "Iteration 3:\n",
      "[         P            ]\n",
      "[         O  O         ]\n",
      "[            O     T   ]\n",
      "[         O  O         ]\n",
      "[                      ]\n",
      "\n",
      "Iteration 4:\n",
      "[            P         ]\n",
      "[         O  O         ]\n",
      "[            O     T   ]\n",
      "[         O  O         ]\n",
      "[                      ]\n",
      "\n",
      "Iteration 5:\n",
      "[                      ]\n",
      "[         O  O  P      ]\n",
      "[            O     T   ]\n",
      "[         O  O         ]\n",
      "[                      ]\n",
      "\n",
      "Iteration 6:\n",
      "[                      ]\n",
      "[         O  O         ]\n",
      "[            O     T   ]\n",
      "[         O  O         ]\n",
      "[                      ]\n",
      "\n"
     ]
    }
   ],
   "source": [
    "# reset to the first iteration\n",
    "myFirstCellularAutomaton.reset_to_iteration(i_reset=0)\n",
    "\n",
    "# simulate until no further changes\n",
    "myFirstCellularAutomaton.simulate_until_no_change(smart_obstacle_avoidance=True, target_absorbs=True)\n",
    "\n",
    "# visualize all the past iterations\n",
    "myFirstCellularAutomaton.visualize_simulation()"
   ]
  },
  {
   "cell_type": "markdown",
   "metadata": {},
   "source": [
    "## 1.3 Observing the result and the history"
   ]
  },
  {
   "cell_type": "markdown",
   "metadata": {},
   "source": [
    "### 1.3.1 Cell States Grid"
   ]
  },
  {
   "cell_type": "code",
   "execution_count": 6,
   "metadata": {},
   "outputs": [
    {
     "name": "stdout",
     "output_type": "stream",
     "text": [
      "[                      ]\n",
      "[         O  O  P      ]\n",
      "[            O     T   ]\n",
      "[         O  O         ]\n",
      "[                      ]\n"
     ]
    }
   ],
   "source": [
    "# visualizing the cell states at a single iteration step\n",
    "myFirstCellularAutomaton.visualize_state_grid(iteration=5)"
   ]
  },
  {
   "cell_type": "code",
   "execution_count": 7,
   "metadata": {},
   "outputs": [
    {
     "data": {
      "text/plain": [
       "{0: array([[<CellState.EMPTY: 'E'>, <CellState.EMPTY: 'E'>,\n",
       "         <CellState.EMPTY: 'E'>, <CellState.EMPTY: 'E'>,\n",
       "         <CellState.EMPTY: 'E'>, <CellState.EMPTY: 'E'>,\n",
       "         <CellState.EMPTY: 'E'>, <CellState.EMPTY: 'E'>],\n",
       "        [<CellState.EMPTY: 'E'>, <CellState.EMPTY: 'E'>,\n",
       "         <CellState.EMPTY: 'E'>, <CellState.OBSTACLE: 'O'>,\n",
       "         <CellState.OBSTACLE: 'O'>, <CellState.EMPTY: 'E'>,\n",
       "         <CellState.EMPTY: 'E'>, <CellState.EMPTY: 'E'>],\n",
       "        [<CellState.EMPTY: 'E'>, <CellState.PEDESTRIAN: 'P'>,\n",
       "         <CellState.EMPTY: 'E'>, <CellState.EMPTY: 'E'>,\n",
       "         <CellState.OBSTACLE: 'O'>, <CellState.EMPTY: 'E'>,\n",
       "         <CellState.TARGET: 'T'>, <CellState.EMPTY: 'E'>],\n",
       "        [<CellState.EMPTY: 'E'>, <CellState.EMPTY: 'E'>,\n",
       "         <CellState.EMPTY: 'E'>, <CellState.OBSTACLE: 'O'>,\n",
       "         <CellState.OBSTACLE: 'O'>, <CellState.EMPTY: 'E'>,\n",
       "         <CellState.EMPTY: 'E'>, <CellState.EMPTY: 'E'>],\n",
       "        [<CellState.EMPTY: 'E'>, <CellState.EMPTY: 'E'>,\n",
       "         <CellState.EMPTY: 'E'>, <CellState.EMPTY: 'E'>,\n",
       "         <CellState.EMPTY: 'E'>, <CellState.EMPTY: 'E'>,\n",
       "         <CellState.EMPTY: 'E'>, <CellState.EMPTY: 'E'>]], dtype=object),\n",
       " 1: array([[<CellState.EMPTY: 'E'>, <CellState.EMPTY: 'E'>,\n",
       "         <CellState.EMPTY: 'E'>, <CellState.EMPTY: 'E'>,\n",
       "         <CellState.EMPTY: 'E'>, <CellState.EMPTY: 'E'>,\n",
       "         <CellState.EMPTY: 'E'>, <CellState.EMPTY: 'E'>],\n",
       "        [<CellState.EMPTY: 'E'>, <CellState.EMPTY: 'E'>,\n",
       "         <CellState.PEDESTRIAN: 'P'>, <CellState.OBSTACLE: 'O'>,\n",
       "         <CellState.OBSTACLE: 'O'>, <CellState.EMPTY: 'E'>,\n",
       "         <CellState.EMPTY: 'E'>, <CellState.EMPTY: 'E'>],\n",
       "        [<CellState.EMPTY: 'E'>, <CellState.EMPTY: 'E'>,\n",
       "         <CellState.EMPTY: 'E'>, <CellState.EMPTY: 'E'>,\n",
       "         <CellState.OBSTACLE: 'O'>, <CellState.EMPTY: 'E'>,\n",
       "         <CellState.TARGET: 'T'>, <CellState.EMPTY: 'E'>],\n",
       "        [<CellState.EMPTY: 'E'>, <CellState.EMPTY: 'E'>,\n",
       "         <CellState.EMPTY: 'E'>, <CellState.OBSTACLE: 'O'>,\n",
       "         <CellState.OBSTACLE: 'O'>, <CellState.EMPTY: 'E'>,\n",
       "         <CellState.EMPTY: 'E'>, <CellState.EMPTY: 'E'>],\n",
       "        [<CellState.EMPTY: 'E'>, <CellState.EMPTY: 'E'>,\n",
       "         <CellState.EMPTY: 'E'>, <CellState.EMPTY: 'E'>,\n",
       "         <CellState.EMPTY: 'E'>, <CellState.EMPTY: 'E'>,\n",
       "         <CellState.EMPTY: 'E'>, <CellState.EMPTY: 'E'>]], dtype=object),\n",
       " 2: array([[<CellState.EMPTY: 'E'>, <CellState.EMPTY: 'E'>,\n",
       "         <CellState.EMPTY: 'E'>, <CellState.EMPTY: 'E'>,\n",
       "         <CellState.EMPTY: 'E'>, <CellState.EMPTY: 'E'>,\n",
       "         <CellState.EMPTY: 'E'>, <CellState.EMPTY: 'E'>],\n",
       "        [<CellState.EMPTY: 'E'>, <CellState.EMPTY: 'E'>,\n",
       "         <CellState.PEDESTRIAN: 'P'>, <CellState.OBSTACLE: 'O'>,\n",
       "         <CellState.OBSTACLE: 'O'>, <CellState.EMPTY: 'E'>,\n",
       "         <CellState.EMPTY: 'E'>, <CellState.EMPTY: 'E'>],\n",
       "        [<CellState.EMPTY: 'E'>, <CellState.EMPTY: 'E'>,\n",
       "         <CellState.EMPTY: 'E'>, <CellState.EMPTY: 'E'>,\n",
       "         <CellState.OBSTACLE: 'O'>, <CellState.EMPTY: 'E'>,\n",
       "         <CellState.TARGET: 'T'>, <CellState.EMPTY: 'E'>],\n",
       "        [<CellState.EMPTY: 'E'>, <CellState.EMPTY: 'E'>,\n",
       "         <CellState.EMPTY: 'E'>, <CellState.OBSTACLE: 'O'>,\n",
       "         <CellState.OBSTACLE: 'O'>, <CellState.EMPTY: 'E'>,\n",
       "         <CellState.EMPTY: 'E'>, <CellState.EMPTY: 'E'>],\n",
       "        [<CellState.EMPTY: 'E'>, <CellState.EMPTY: 'E'>,\n",
       "         <CellState.EMPTY: 'E'>, <CellState.EMPTY: 'E'>,\n",
       "         <CellState.EMPTY: 'E'>, <CellState.EMPTY: 'E'>,\n",
       "         <CellState.EMPTY: 'E'>, <CellState.EMPTY: 'E'>]], dtype=object),\n",
       " 3: array([[<CellState.EMPTY: 'E'>, <CellState.EMPTY: 'E'>,\n",
       "         <CellState.EMPTY: 'E'>, <CellState.PEDESTRIAN: 'P'>,\n",
       "         <CellState.EMPTY: 'E'>, <CellState.EMPTY: 'E'>,\n",
       "         <CellState.EMPTY: 'E'>, <CellState.EMPTY: 'E'>],\n",
       "        [<CellState.EMPTY: 'E'>, <CellState.EMPTY: 'E'>,\n",
       "         <CellState.EMPTY: 'E'>, <CellState.OBSTACLE: 'O'>,\n",
       "         <CellState.OBSTACLE: 'O'>, <CellState.EMPTY: 'E'>,\n",
       "         <CellState.EMPTY: 'E'>, <CellState.EMPTY: 'E'>],\n",
       "        [<CellState.EMPTY: 'E'>, <CellState.EMPTY: 'E'>,\n",
       "         <CellState.EMPTY: 'E'>, <CellState.EMPTY: 'E'>,\n",
       "         <CellState.OBSTACLE: 'O'>, <CellState.EMPTY: 'E'>,\n",
       "         <CellState.TARGET: 'T'>, <CellState.EMPTY: 'E'>],\n",
       "        [<CellState.EMPTY: 'E'>, <CellState.EMPTY: 'E'>,\n",
       "         <CellState.EMPTY: 'E'>, <CellState.OBSTACLE: 'O'>,\n",
       "         <CellState.OBSTACLE: 'O'>, <CellState.EMPTY: 'E'>,\n",
       "         <CellState.EMPTY: 'E'>, <CellState.EMPTY: 'E'>],\n",
       "        [<CellState.EMPTY: 'E'>, <CellState.EMPTY: 'E'>,\n",
       "         <CellState.EMPTY: 'E'>, <CellState.EMPTY: 'E'>,\n",
       "         <CellState.EMPTY: 'E'>, <CellState.EMPTY: 'E'>,\n",
       "         <CellState.EMPTY: 'E'>, <CellState.EMPTY: 'E'>]], dtype=object),\n",
       " 4: array([[<CellState.EMPTY: 'E'>, <CellState.EMPTY: 'E'>,\n",
       "         <CellState.EMPTY: 'E'>, <CellState.EMPTY: 'E'>,\n",
       "         <CellState.PEDESTRIAN: 'P'>, <CellState.EMPTY: 'E'>,\n",
       "         <CellState.EMPTY: 'E'>, <CellState.EMPTY: 'E'>],\n",
       "        [<CellState.EMPTY: 'E'>, <CellState.EMPTY: 'E'>,\n",
       "         <CellState.EMPTY: 'E'>, <CellState.OBSTACLE: 'O'>,\n",
       "         <CellState.OBSTACLE: 'O'>, <CellState.EMPTY: 'E'>,\n",
       "         <CellState.EMPTY: 'E'>, <CellState.EMPTY: 'E'>],\n",
       "        [<CellState.EMPTY: 'E'>, <CellState.EMPTY: 'E'>,\n",
       "         <CellState.EMPTY: 'E'>, <CellState.EMPTY: 'E'>,\n",
       "         <CellState.OBSTACLE: 'O'>, <CellState.EMPTY: 'E'>,\n",
       "         <CellState.TARGET: 'T'>, <CellState.EMPTY: 'E'>],\n",
       "        [<CellState.EMPTY: 'E'>, <CellState.EMPTY: 'E'>,\n",
       "         <CellState.EMPTY: 'E'>, <CellState.OBSTACLE: 'O'>,\n",
       "         <CellState.OBSTACLE: 'O'>, <CellState.EMPTY: 'E'>,\n",
       "         <CellState.EMPTY: 'E'>, <CellState.EMPTY: 'E'>],\n",
       "        [<CellState.EMPTY: 'E'>, <CellState.EMPTY: 'E'>,\n",
       "         <CellState.EMPTY: 'E'>, <CellState.EMPTY: 'E'>,\n",
       "         <CellState.EMPTY: 'E'>, <CellState.EMPTY: 'E'>,\n",
       "         <CellState.EMPTY: 'E'>, <CellState.EMPTY: 'E'>]], dtype=object),\n",
       " 5: array([[<CellState.EMPTY: 'E'>, <CellState.EMPTY: 'E'>,\n",
       "         <CellState.EMPTY: 'E'>, <CellState.EMPTY: 'E'>,\n",
       "         <CellState.EMPTY: 'E'>, <CellState.EMPTY: 'E'>,\n",
       "         <CellState.EMPTY: 'E'>, <CellState.EMPTY: 'E'>],\n",
       "        [<CellState.EMPTY: 'E'>, <CellState.EMPTY: 'E'>,\n",
       "         <CellState.EMPTY: 'E'>, <CellState.OBSTACLE: 'O'>,\n",
       "         <CellState.OBSTACLE: 'O'>, <CellState.PEDESTRIAN: 'P'>,\n",
       "         <CellState.EMPTY: 'E'>, <CellState.EMPTY: 'E'>],\n",
       "        [<CellState.EMPTY: 'E'>, <CellState.EMPTY: 'E'>,\n",
       "         <CellState.EMPTY: 'E'>, <CellState.EMPTY: 'E'>,\n",
       "         <CellState.OBSTACLE: 'O'>, <CellState.EMPTY: 'E'>,\n",
       "         <CellState.TARGET: 'T'>, <CellState.EMPTY: 'E'>],\n",
       "        [<CellState.EMPTY: 'E'>, <CellState.EMPTY: 'E'>,\n",
       "         <CellState.EMPTY: 'E'>, <CellState.OBSTACLE: 'O'>,\n",
       "         <CellState.OBSTACLE: 'O'>, <CellState.EMPTY: 'E'>,\n",
       "         <CellState.EMPTY: 'E'>, <CellState.EMPTY: 'E'>],\n",
       "        [<CellState.EMPTY: 'E'>, <CellState.EMPTY: 'E'>,\n",
       "         <CellState.EMPTY: 'E'>, <CellState.EMPTY: 'E'>,\n",
       "         <CellState.EMPTY: 'E'>, <CellState.EMPTY: 'E'>,\n",
       "         <CellState.EMPTY: 'E'>, <CellState.EMPTY: 'E'>]], dtype=object),\n",
       " 6: array([[<CellState.EMPTY: 'E'>, <CellState.EMPTY: 'E'>,\n",
       "         <CellState.EMPTY: 'E'>, <CellState.EMPTY: 'E'>,\n",
       "         <CellState.EMPTY: 'E'>, <CellState.EMPTY: 'E'>,\n",
       "         <CellState.EMPTY: 'E'>, <CellState.EMPTY: 'E'>],\n",
       "        [<CellState.EMPTY: 'E'>, <CellState.EMPTY: 'E'>,\n",
       "         <CellState.EMPTY: 'E'>, <CellState.OBSTACLE: 'O'>,\n",
       "         <CellState.OBSTACLE: 'O'>, <CellState.EMPTY: 'E'>,\n",
       "         <CellState.EMPTY: 'E'>, <CellState.EMPTY: 'E'>],\n",
       "        [<CellState.EMPTY: 'E'>, <CellState.EMPTY: 'E'>,\n",
       "         <CellState.EMPTY: 'E'>, <CellState.EMPTY: 'E'>,\n",
       "         <CellState.OBSTACLE: 'O'>, <CellState.EMPTY: 'E'>,\n",
       "         <CellState.TARGET: 'T'>, <CellState.EMPTY: 'E'>],\n",
       "        [<CellState.EMPTY: 'E'>, <CellState.EMPTY: 'E'>,\n",
       "         <CellState.EMPTY: 'E'>, <CellState.OBSTACLE: 'O'>,\n",
       "         <CellState.OBSTACLE: 'O'>, <CellState.EMPTY: 'E'>,\n",
       "         <CellState.EMPTY: 'E'>, <CellState.EMPTY: 'E'>],\n",
       "        [<CellState.EMPTY: 'E'>, <CellState.EMPTY: 'E'>,\n",
       "         <CellState.EMPTY: 'E'>, <CellState.EMPTY: 'E'>,\n",
       "         <CellState.EMPTY: 'E'>, <CellState.EMPTY: 'E'>,\n",
       "         <CellState.EMPTY: 'E'>, <CellState.EMPTY: 'E'>]], dtype=object)}"
      ]
     },
     "execution_count": 7,
     "metadata": {},
     "output_type": "execute_result"
    }
   ],
   "source": [
    "# manually accessing the cell states history\n",
    "myFirstCellularAutomaton.state_grid_history"
   ]
  },
  {
   "cell_type": "code",
   "execution_count": 8,
   "metadata": {},
   "outputs": [
    {
     "data": {
      "text/plain": [
       "array([[<CellState.EMPTY: 'E'>, <CellState.EMPTY: 'E'>,\n",
       "        <CellState.EMPTY: 'E'>, <CellState.EMPTY: 'E'>,\n",
       "        <CellState.EMPTY: 'E'>, <CellState.EMPTY: 'E'>,\n",
       "        <CellState.EMPTY: 'E'>, <CellState.EMPTY: 'E'>],\n",
       "       [<CellState.EMPTY: 'E'>, <CellState.EMPTY: 'E'>,\n",
       "        <CellState.EMPTY: 'E'>, <CellState.OBSTACLE: 'O'>,\n",
       "        <CellState.OBSTACLE: 'O'>, <CellState.EMPTY: 'E'>,\n",
       "        <CellState.EMPTY: 'E'>, <CellState.EMPTY: 'E'>],\n",
       "       [<CellState.EMPTY: 'E'>, <CellState.PEDESTRIAN: 'P'>,\n",
       "        <CellState.EMPTY: 'E'>, <CellState.EMPTY: 'E'>,\n",
       "        <CellState.OBSTACLE: 'O'>, <CellState.EMPTY: 'E'>,\n",
       "        <CellState.TARGET: 'T'>, <CellState.EMPTY: 'E'>],\n",
       "       [<CellState.EMPTY: 'E'>, <CellState.EMPTY: 'E'>,\n",
       "        <CellState.EMPTY: 'E'>, <CellState.OBSTACLE: 'O'>,\n",
       "        <CellState.OBSTACLE: 'O'>, <CellState.EMPTY: 'E'>,\n",
       "        <CellState.EMPTY: 'E'>, <CellState.EMPTY: 'E'>],\n",
       "       [<CellState.EMPTY: 'E'>, <CellState.EMPTY: 'E'>,\n",
       "        <CellState.EMPTY: 'E'>, <CellState.EMPTY: 'E'>,\n",
       "        <CellState.EMPTY: 'E'>, <CellState.EMPTY: 'E'>,\n",
       "        <CellState.EMPTY: 'E'>, <CellState.EMPTY: 'E'>]], dtype=object)"
      ]
     },
     "execution_count": 8,
     "metadata": {},
     "output_type": "execute_result"
    }
   ],
   "source": [
    "# accessing the cell state at one single iteration step\n",
    "myFirstCellularAutomaton.state_grid_history[0]"
   ]
  },
  {
   "cell_type": "markdown",
   "metadata": {},
   "source": [
    "### 1.3.2 Obstacle based Utility Grid"
   ]
  },
  {
   "cell_type": "code",
   "execution_count": 9,
   "metadata": {},
   "outputs": [
    {
     "name": "stdout",
     "output_type": "stream",
     "text": [
      "[[6.83 5.83 4.83 3.83 2.83 2.41 2.00 2.41]\n",
      " [7.24 6.24 5.24  inf  inf 1.41 1.00 1.41]\n",
      " [7.66 6.66 6.24 6.66  inf 1.00 0.00 1.00]\n",
      " [7.24 6.24 5.24  inf  inf 1.41 1.00 1.41]\n",
      " [6.83 5.83 4.83 3.83 2.83 2.41 2.00 2.41]]\n"
     ]
    }
   ],
   "source": [
    "# with smart obstacle avoidance\n",
    "myFirstCellularAutomaton.print_utilities(smart_obstacle_avoidance=True, iteration=0)"
   ]
  },
  {
   "cell_type": "code",
   "execution_count": 10,
   "metadata": {},
   "outputs": [
    {
     "name": "stdout",
     "output_type": "stream",
     "text": [
      "[[6.83 5.83 4.83 3.83 2.83 2.41 2.00 2.41]\n",
      " [6.41 5.41 4.41  inf  inf 1.41 1.00 1.41]\n",
      " [6.00 5.00 4.00 3.00  inf 1.00 0.00 1.00]\n",
      " [6.41 5.41 4.41  inf  inf 1.41 1.00 1.41]\n",
      " [6.83 5.83 4.83 3.83 2.83 2.41 2.00 2.41]]\n"
     ]
    }
   ],
   "source": [
    "# without smart obstacle avoidance\n",
    "myFirstCellularAutomaton.print_utilities(smart_obstacle_avoidance=False, iteration=0)"
   ]
  },
  {
   "cell_type": "markdown",
   "metadata": {},
   "source": [
    "we would see that our pedestrian would get stuck in this case."
   ]
  },
  {
   "cell_type": "markdown",
   "metadata": {},
   "source": [
    "### 1.3.3 Pedestrians"
   ]
  },
  {
   "cell_type": "code",
   "execution_count": 11,
   "metadata": {},
   "outputs": [
    {
     "data": {
      "text/plain": [
       "[{'speed_desired': 1.0,\n",
       "  'start_pos': (2, 1),\n",
       "  'curr_pos': (0, 4),\n",
       "  'travelled': 3.8284271247461903,\n",
       "  'skips': 0}]"
      ]
     },
     "execution_count": 11,
     "metadata": {},
     "output_type": "execute_result"
    }
   ],
   "source": [
    "# during the simulation, when pedestrian has not finished yet\n",
    "# note: one can get the current iteration with \"myFirstCellularAutomaton.curr_iter\"\n",
    "myFirstCellularAutomaton.reset_to_iteration(4)\n",
    "myFirstCellularAutomaton.pedestrians"
   ]
  },
  {
   "cell_type": "code",
   "execution_count": 12,
   "metadata": {},
   "outputs": [
    {
     "data": {
      "text/plain": [
       "[{'speed_desired': 1.0,\n",
       "  'start_pos': (2, 1),\n",
       "  'curr_pos': (2, 6),\n",
       "  'travelled': 6.656854249492381,\n",
       "  'skips': 0,\n",
       "  'finish_iteration': 6}]"
      ]
     },
     "execution_count": 12,
     "metadata": {},
     "output_type": "execute_result"
    }
   ],
   "source": [
    "# after the simulation, when a pedestrian has finished\n",
    "myFirstCellularAutomaton.simulate_until_no_change()\n",
    "myFirstCellularAutomaton.finished_pedestrians"
   ]
  },
  {
   "cell_type": "code",
   "execution_count": 13,
   "metadata": {},
   "outputs": [
    {
     "data": {
      "text/plain": [
       "{0: [{'speed_desired': 1.0,\n",
       "   'start_pos': (2, 1),\n",
       "   'curr_pos': (2, 1),\n",
       "   'travelled': 0,\n",
       "   'skips': 0}],\n",
       " 1: [{'speed_desired': 1.0,\n",
       "   'start_pos': (2, 1),\n",
       "   'curr_pos': (1, 2),\n",
       "   'travelled': 1.4142135623730951,\n",
       "   'skips': 0}],\n",
       " 2: [{'speed_desired': 1.0,\n",
       "   'start_pos': (2, 1),\n",
       "   'curr_pos': (1, 2),\n",
       "   'travelled': 1.4142135623730951,\n",
       "   'skips': 0}],\n",
       " 3: [{'speed_desired': 1.0,\n",
       "   'start_pos': (2, 1),\n",
       "   'curr_pos': (0, 3),\n",
       "   'travelled': 2.8284271247461903,\n",
       "   'skips': 0}],\n",
       " 4: [{'speed_desired': 1.0,\n",
       "   'start_pos': (2, 1),\n",
       "   'curr_pos': (0, 4),\n",
       "   'travelled': 3.8284271247461903,\n",
       "   'skips': 0}],\n",
       " 5: [{'speed_desired': 1.0,\n",
       "   'start_pos': (2, 1),\n",
       "   'curr_pos': (1, 5),\n",
       "   'travelled': 5.242640687119286,\n",
       "   'skips': 0}],\n",
       " 6: []}"
      ]
     },
     "execution_count": 13,
     "metadata": {},
     "output_type": "execute_result"
    }
   ],
   "source": [
    "# history of the not finished pedestrians\n",
    "myFirstCellularAutomaton.pedestrians_history"
   ]
  },
  {
   "cell_type": "code",
   "execution_count": 14,
   "metadata": {},
   "outputs": [
    {
     "data": {
      "text/plain": [
       "{0: [],\n",
       " 1: [],\n",
       " 2: [],\n",
       " 3: [],\n",
       " 4: [],\n",
       " 5: [],\n",
       " 6: [{'speed_desired': 1.0,\n",
       "   'start_pos': (2, 1),\n",
       "   'curr_pos': (2, 6),\n",
       "   'travelled': 6.656854249492381,\n",
       "   'skips': 0,\n",
       "   'finish_iteration': 6}]}"
      ]
     },
     "execution_count": 14,
     "metadata": {},
     "output_type": "execute_result"
    }
   ],
   "source": [
    "# history of the finished pedestrians\n",
    "myFirstCellularAutomaton.finished_pedestrians_history"
   ]
  },
  {
   "cell_type": "markdown",
   "metadata": {},
   "source": [
    "# 2. The GUI"
   ]
  },
  {
   "cell_type": "code",
   "execution_count": 15,
   "metadata": {},
   "outputs": [],
   "source": [
    "import tkinter as tk\n",
    "from helpers.gui import GUI"
   ]
  },
  {
   "cell_type": "markdown",
   "metadata": {},
   "source": [
    "## 2.1 Starting the GUI\n",
    "- 1. Load a scenario file\n",
    "- 2. Adjust the configuration using the checkboxes\n",
    "- 3. Start the simulation\n",
    "- 4. Visualize"
   ]
  },
  {
   "cell_type": "code",
   "execution_count": 16,
   "metadata": {},
   "outputs": [],
   "source": [
    "root = tk.Tk()\n",
    "gui = GUI(root)\n",
    "root.mainloop()"
   ]
  }
 ],
 "metadata": {
  "language_info": {
   "name": "python"
  },
  "orig_nbformat": 4
 },
 "nbformat": 4,
 "nbformat_minor": 2
}
