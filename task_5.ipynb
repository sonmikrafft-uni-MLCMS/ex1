{
 "cells": [
  {
   "cell_type": "markdown",
   "metadata": {},
   "source": [
    "# Task 5 - Tests"
   ]
  },
  {
   "cell_type": "code",
   "execution_count": 1,
   "metadata": {},
   "outputs": [],
   "source": [
    "from helpers.cellular_automaton import fill_from_scenario_file"
   ]
  },
  {
   "cell_type": "markdown",
   "metadata": {},
   "source": [
    "## TEST1: RiMEA scenario 1 (straight line, ignore premovement time)\n",
    "\n",
    "It is to be proven that a person in a 2 m wide and 40 m long corridor with a defined walking speed will cover the distance in the corresponding time period.\n",
    "If 40 cm (body dimension), 1 second (premovement time) and 5% (walking speed) are set as imprecise values, then the following requirement results with a typical pedestrian speed of 1.33 m/sec: the speed should be set at a value between 4.5 and 5.1 km/h. The travel time should lie in the range of 26 to 34 seconds when 1.33 m/sec is set as the speed."
   ]
  },
  {
   "cell_type": "code",
   "execution_count": 3,
   "metadata": {},
   "outputs": [
    {
     "name": "stdout",
     "output_type": "stream",
     "text": [
      "[P                                                                                                                    T]\n",
      "[                                                                                                                      ]\n"
     ]
    }
   ],
   "source": [
    "cellularAutomaton_task5_rimea1 = fill_from_scenario_file('scenario_files/tasks/scenario_task_5_rimea_1.csv')\n",
    "cellularAutomaton_task5_rimea1.visualize_state_grid()"
   ]
  },
  {
   "cell_type": "code",
   "execution_count": 4,
   "metadata": {},
   "outputs": [
    {
     "name": "stdout",
     "output_type": "stream",
     "text": [
      "Iteration 0:\n",
      "[P                                                                                                                    T]\n",
      "[                                                                                                                      ]\n",
      "\n",
      "Iteration 1:\n",
      "[   P                                                                                                                 T]\n",
      "[                                                                                                                      ]\n",
      "\n",
      "Iteration 2:\n",
      "[         P                                                                                                           T]\n",
      "[                                                                                                                      ]\n",
      "\n",
      "Iteration 3:\n",
      "[            P                                                                                                        T]\n",
      "[                                                                                                                      ]\n",
      "\n",
      "Iteration 4:\n",
      "[               P                                                                                                     T]\n",
      "[                                                                                                                      ]\n",
      "\n",
      "Iteration 5:\n",
      "[                     P                                                                                               T]\n",
      "[                                                                                                                      ]\n",
      "\n",
      "Iteration 6:\n",
      "[                        P                                                                                            T]\n",
      "[                                                                                                                      ]\n",
      "\n",
      "Iteration 7:\n",
      "[                           P                                                                                         T]\n",
      "[                                                                                                                      ]\n",
      "\n",
      "Iteration 8:\n",
      "[                                 P                                                                                   T]\n",
      "[                                                                                                                      ]\n",
      "\n",
      "Iteration 9:\n",
      "[                                    P                                                                                T]\n",
      "[                                                                                                                      ]\n",
      "\n",
      "Iteration 10:\n",
      "[                                       P                                                                             T]\n",
      "[                                                                                                                      ]\n",
      "\n",
      "Iteration 11:\n",
      "[                                             P                                                                       T]\n",
      "[                                                                                                                      ]\n",
      "\n",
      "Iteration 12:\n",
      "[                                                P                                                                    T]\n",
      "[                                                                                                                      ]\n",
      "\n",
      "Iteration 13:\n",
      "[                                                   P                                                                 T]\n",
      "[                                                                                                                      ]\n",
      "\n",
      "Iteration 14:\n",
      "[                                                         P                                                           T]\n",
      "[                                                                                                                      ]\n",
      "\n",
      "Iteration 15:\n",
      "[                                                            P                                                        T]\n",
      "[                                                                                                                      ]\n",
      "\n",
      "Iteration 16:\n",
      "[                                                               P                                                     T]\n",
      "[                                                                                                                      ]\n",
      "\n",
      "Iteration 17:\n",
      "[                                                                     P                                               T]\n",
      "[                                                                                                                      ]\n",
      "\n",
      "Iteration 18:\n",
      "[                                                                        P                                            T]\n",
      "[                                                                                                                      ]\n",
      "\n",
      "Iteration 19:\n",
      "[                                                                           P                                         T]\n",
      "[                                                                                                                      ]\n",
      "\n",
      "Iteration 20:\n",
      "[                                                                                 P                                   T]\n",
      "[                                                                                                                      ]\n",
      "\n",
      "Iteration 21:\n",
      "[                                                                                    P                                T]\n",
      "[                                                                                                                      ]\n",
      "\n",
      "Iteration 22:\n",
      "[                                                                                       P                             T]\n",
      "[                                                                                                                      ]\n",
      "\n",
      "Iteration 23:\n",
      "[                                                                                             P                       T]\n",
      "[                                                                                                                      ]\n",
      "\n",
      "Iteration 24:\n",
      "[                                                                                                P                    T]\n",
      "[                                                                                                                      ]\n",
      "\n",
      "Iteration 25:\n",
      "[                                                                                                   P                 T]\n",
      "[                                                                                                                      ]\n",
      "\n",
      "Iteration 26:\n",
      "[                                                                                                         P           T]\n",
      "[                                                                                                                      ]\n",
      "\n",
      "Iteration 27:\n",
      "[                                                                                                            P        T]\n",
      "[                                                                                                                      ]\n",
      "\n",
      "Iteration 28:\n",
      "[                                                                                                               P     T]\n",
      "[                                                                                                                      ]\n",
      "\n",
      "Iteration 29:\n",
      "[                                                                                                                     T]\n",
      "[                                                                                                                      ]\n",
      "\n"
     ]
    }
   ],
   "source": [
    "cellularAutomaton_task5_rimea1.simulate_until_no_change()\n",
    "cellularAutomaton_task5_rimea1.visualize_simulation()"
   ]
  },
  {
   "cell_type": "code",
   "execution_count": 7,
   "metadata": {},
   "outputs": [
    {
     "data": {
      "text/plain": [
       "{'speed_desired': 1.33,\n",
       " 'start_pos': (0, 0),\n",
       " 'curr_pos': (0, 39),\n",
       " 'travelled': 39.0,\n",
       " 'skips': 0,\n",
       " 'finish_iteration': 29}"
      ]
     },
     "execution_count": 7,
     "metadata": {},
     "output_type": "execute_result"
    }
   ],
   "source": [
    "finished_ped = cellularAutomaton_task5_rimea1.finished_pedestrians[0]\n",
    "finished_ped"
   ]
  },
  {
   "cell_type": "code",
   "execution_count": 19,
   "metadata": {},
   "outputs": [
    {
     "name": "stdout",
     "output_type": "stream",
     "text": [
      "Travel time: 29 s\n",
      "Distance travelled: 39.0 m\n",
      "Speed Desired: 1.33 m/s\n",
      "Speed Achieved: 1.34 m/s\n"
     ]
    }
   ],
   "source": [
    "print(f'Travel time: {finished_ped[\"finish_iteration\"]} s')\n",
    "print(f'Distance travelled: {finished_ped[\"travelled\"]} m')\n",
    "print(f'Speed Desired: {finished_ped[\"speed_desired\"]} m/s')\n",
    "print(f'Speed Achieved: {finished_ped[\"travelled\"] / finished_ped[\"finish_iteration\"]:.2f} m/s')"
   ]
  },
  {
   "cell_type": "markdown",
   "metadata": {},
   "source": [
    "## TEST2: RiMEA scenario 4 (fundamental diagram, be careful with periodic boundary conditions)"
   ]
  },
  {
   "cell_type": "code",
   "execution_count": null,
   "metadata": {},
   "outputs": [],
   "source": []
  },
  {
   "cell_type": "markdown",
   "metadata": {},
   "source": [
    "## TEST3: RiMEA scenario 6 (movement around a corner)"
   ]
  },
  {
   "cell_type": "code",
   "execution_count": null,
   "metadata": {},
   "outputs": [],
   "source": []
  },
  {
   "cell_type": "markdown",
   "metadata": {},
   "source": [
    "## TEST4: RiMEA scenario 7 (demographic parameters, visual comparison of figure and results is su\u000ecient. Simple and correct statistical test gives 5 bonus points)"
   ]
  }
 ],
 "metadata": {
  "interpreter": {
   "hash": "9d1a0f5ee93e8ea41525e734c1178b150c3383b451469805b56a05295a9fb3ab"
  },
  "kernelspec": {
   "display_name": "Python 3.9.5 64-bit ('mlcs': venv)",
   "name": "python3"
  },
  "language_info": {
   "codemirror_mode": {
    "name": "ipython",
    "version": 3
   },
   "file_extension": ".py",
   "mimetype": "text/x-python",
   "name": "python",
   "nbconvert_exporter": "python",
   "pygments_lexer": "ipython3",
   "version": "3.9.5"
  },
  "orig_nbformat": 4
 },
 "nbformat": 4,
 "nbformat_minor": 2
}
