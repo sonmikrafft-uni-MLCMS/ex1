{
 "cells": [
  {
   "cell_type": "markdown",
   "metadata": {},
   "source": [
    "# Task 1 - Setting up the modelling environment"
   ]
  },
  {
   "cell_type": "code",
   "execution_count": 1,
   "metadata": {},
   "outputs": [
    {
     "name": "stdout",
     "output_type": "stream",
     "text": [
      "[ \t \t \t \t \t \t \t \t \t ]\n",
      "[ \tP\t \t \t \t \t \t \t \t ]\n",
      "[ \t \t \t \t \t \t \t \t \t ]\n",
      "[ \t \t \t \t \t \t \t \t \t ]\n",
      "[ \t \t \t \t \t \t \t \t \t ]\n",
      "[ \t \t \t \t \t \t \t \t \t ]\n",
      "[ \t \t \t \t \t \t \t \t \t ]\n",
      "[ \t \t \t \t \t \t \t \t \t ]\n",
      "[ \t \t \t \t \t \t \t \t \t ]\n",
      "[ \t \t \t \t \t \t \t \t \t ]\n"
     ]
    }
   ],
   "source": [
    "from helpers.cellular_automaton import CellularAutomaton, CellState\n",
    "\n",
    "myCellularAutomaton = CellularAutomaton((10, 10))\n",
    "myCellularAutomaton.add(CellState.PEDESTRIAN, (1,1))\n",
    "myCellularAutomaton.add(CellState.OBSTACLE, (2,2))\n",
    "myCellularAutomaton.add(CellState.TARGET, (3,3))\n",
    "myCellularAutomaton.visualize_grid()"
   ]
  }
 ],
 "metadata": {
  "interpreter": {
   "hash": "9d1a0f5ee93e8ea41525e734c1178b150c3383b451469805b56a05295a9fb3ab"
  },
  "kernelspec": {
   "display_name": "Python 3.9.5 64-bit ('mlcs': venv)",
   "name": "python3"
  },
  "language_info": {
   "codemirror_mode": {
    "name": "ipython",
    "version": 3
   },
   "file_extension": ".py",
   "mimetype": "text/x-python",
   "name": "python",
   "nbconvert_exporter": "python",
   "pygments_lexer": "ipython3",
   "version": "3.9.5"
  },
  "orig_nbformat": 4
 },
 "nbformat": 4,
 "nbformat_minor": 2
}
