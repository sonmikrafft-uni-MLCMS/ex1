{
 "cells": [
  {
   "cell_type": "markdown",
   "metadata": {},
   "source": [
    "# Task 1 - Setting up the modelling environment"
   ]
  },
  {
   "cell_type": "code",
   "execution_count": null,
   "metadata": {},
   "outputs": [],
   "source": [
    "import tkinter as tk\n",
    "from helpers.gui import GUI\n",
    "\n",
    "root = tk.Tk()\n",
    "gui = GUI(root, 'scenario_0.csv')\n",
    "root.mainloop()"
   ]
  },
  {
   "cell_type": "code",
   "execution_count": null,
   "metadata": {},
   "outputs": [],
   "source": [
    "from helpers.cellular_automaton import CellState, CellularAutomaton\n",
    "\n",
    "myCellularAutomaton = CellularAutomaton((10, 10))\n",
    "myCellularAutomaton.add(CellState.PEDESTRIAN, (1,1))\n",
    "myCellularAutomaton.add(CellState.OBSTACLE, (2,2))\n",
    "myCellularAutomaton.add(CellState.TARGET, (3,3))\n",
    "myCellularAutomaton.visualize_grid()\n",
    "\n",
    "myCellularAutomaton.set_utilities(True)"
   ]
  },
  {
   "cell_type": "code",
   "execution_count": 3,
   "outputs": [
    {
     "name": "stdout",
     "output_type": "stream",
     "text": [
      "[                            ]\n",
      "[   T                        ]\n",
      "[                            ]\n",
      "[                            ]\n",
      "[                            ]\n",
      "[                        T   ]\n",
      "[                        T   ]\n",
      "[                            ]\n",
      "[                            ]\n",
      "[                            ]\n",
      "[[ 1.41  1.00  1.41  2.41  3.41  4.41  5.41  5.41  5.00  5.41]\n",
      " [ 1.00  0.00  1.00  2.00  3.00  4.00  4.83  4.41  4.00  4.41]\n",
      " [ 1.41  1.00  1.41  2.41  3.41  4.24  3.83  3.41  3.00  3.41]\n",
      " [ 2.41  2.00  2.41  2.83  3.83  3.83  2.83  2.41  2.00  2.41]\n",
      " [ 3.41  3.00  3.41  3.83  4.24  3.41  2.41  1.41  1.00  1.41]\n",
      " [ 4.41  4.00  4.41  4.83  4.00  3.00  2.00  1.00  0.00  1.00]\n",
      " [ 5.41  5.00  5.41  5.00  4.00  3.00  2.00  1.00  0.00  1.00]\n",
      " [ 6.41  6.00  6.41  5.41  4.41  3.41  2.41  1.41  1.00  1.41]\n",
      " [ 7.41  7.00  6.83  5.83  4.83  3.83  2.83  2.41  2.00  2.41]\n",
      " [ 8.41  8.00  7.24  6.24  5.24  4.24  3.83  3.41  3.00  3.41]]\n"
     ]
    }
   ],
   "source": [
    "# Test computation of Utilities with multiple targets\n",
    "\n",
    "from helpers.cellular_automaton import CellState, CellularAutomaton\n",
    "\n",
    "multipleTargetsAutomaton = CellularAutomaton((10,10))\n",
    "multipleTargetsAutomaton.add(CellState.TARGET, (5,8))\n",
    "multipleTargetsAutomaton.add(CellState.TARGET, (6,8))\n",
    "multipleTargetsAutomaton.add(CellState.TARGET, (1,1))\n",
    "\n",
    "multipleTargetsAutomaton.visualize_grid()\n",
    "multipleTargetsAutomaton.set_utilities(False)\n",
    "multipleTargetsAutomaton.print_utilities()"
   ],
   "metadata": {
    "collapsed": false,
    "pycharm": {
     "name": "#%%\n"
    }
   }
  },
  {
   "cell_type": "code",
   "execution_count": 4,
   "outputs": [
    {
     "name": "stdout",
     "output_type": "stream",
     "text": [
      "[                            ]\n",
      "[                            ]\n",
      "[                            ]\n",
      "[               O            ]\n",
      "[               O            ]\n",
      "[               O        T   ]\n",
      "[               O            ]\n",
      "[               O            ]\n",
      "[                            ]\n",
      "[                            ]\n"
     ]
    }
   ],
   "source": [
    "# Chicken Scenario\n",
    "\n",
    "from helpers.cellular_automaton import CellState, CellularAutomaton\n",
    "\n",
    "chickenAutomaton = CellularAutomaton((10,10))\n",
    "chickenAutomaton.add(CellState.TARGET, (5,8))\n",
    "chickenAutomaton.add(CellState.OBSTACLE, (3,5))\n",
    "chickenAutomaton.add(CellState.OBSTACLE, (4,5))\n",
    "chickenAutomaton.add(CellState.OBSTACLE, (5,5))\n",
    "chickenAutomaton.add(CellState.OBSTACLE, (6,5))\n",
    "chickenAutomaton.add(CellState.OBSTACLE, (7,5))\n",
    "\n",
    "chickenAutomaton.visualize_grid()"
   ],
   "metadata": {
    "collapsed": false,
    "pycharm": {
     "name": "#%%\n"
    }
   }
  },
  {
   "cell_type": "code",
   "execution_count": 5,
   "outputs": [
    {
     "name": "stdout",
     "output_type": "stream",
     "text": [
      "[[ 10.07  9.07  8.07  7.07  6.66  6.24  5.83  5.41  5.00  5.41]\n",
      " [ 9.66  8.66  7.66  6.66  5.66  5.24  4.83  4.41  4.00  4.41]\n",
      " [ 9.24  8.24  7.24  6.24  5.24  4.24  3.83  3.41  3.00  3.41]\n",
      " [ 8.83  7.83  6.83  5.83  4.83  inf  2.83  2.41  2.00  2.41]\n",
      " [ 8.41  7.41  6.41  5.41  4.41  inf  2.41  1.41  1.00  1.41]\n",
      " [ 8.00  7.00  6.00  5.00  4.00  inf  2.00  1.00  0.00  1.00]\n",
      " [ 8.41  7.41  6.41  5.41  4.41  inf  2.41  1.41  1.00  1.41]\n",
      " [ 8.83  7.83  6.83  5.83  4.83  inf  2.83  2.41  2.00  2.41]\n",
      " [ 9.24  8.24  7.24  6.24  5.24  4.24  3.83  3.41  3.00  3.41]\n",
      " [ 9.66  8.66  7.66  6.66  5.66  5.24  4.83  4.41  4.00  4.41]]\n"
     ]
    }
   ],
   "source": [
    "## Compute Utilities without smart obstacle avoidance\n",
    "chickenAutomaton.set_utilities(obstacle_avoidance=False)\n",
    "chickenAutomaton.print_utilities()"
   ],
   "metadata": {
    "collapsed": false,
    "pycharm": {
     "name": "#%%\n"
    }
   }
  },
  {
   "cell_type": "code",
   "execution_count": 6,
   "outputs": [
    {
     "name": "stdout",
     "output_type": "stream",
     "text": [
      "[[ 10.07  9.07  8.07  7.07  6.66  6.24  5.83  5.41  5.00  5.41]\n",
      " [ 9.66  8.66  7.66  6.66  5.66  5.24  4.83  4.41  4.00  4.41]\n",
      " [ 9.24  8.24  7.24  6.24  5.24  4.24  3.83  3.41  3.00  3.41]\n",
      " [ 9.66  8.66  7.66  6.66  5.66  inf  2.83  2.41  2.00  2.41]\n",
      " [ 10.07  9.07  8.07  7.07  6.66  inf  2.41  1.41  1.00  1.41]\n",
      " [ 10.49  9.49  8.49  8.07  7.66  inf  2.00  1.00  0.00  1.00]\n",
      " [ 10.07  9.07  8.07  7.07  6.66  inf  2.41  1.41  1.00  1.41]\n",
      " [ 9.66  8.66  7.66  6.66  5.66  inf  2.83  2.41  2.00  2.41]\n",
      " [ 9.24  8.24  7.24  6.24  5.24  4.24  3.83  3.41  3.00  3.41]\n",
      " [ 9.66  8.66  7.66  6.66  5.66  5.24  4.83  4.41  4.00  4.41]]\n"
     ]
    }
   ],
   "source": [
    "## Compute Utilities with smart obstacle avoidance\n",
    "chickenAutomaton.set_utilities(obstacle_avoidance=True)\n",
    "chickenAutomaton.print_utilities()"
   ],
   "metadata": {
    "collapsed": false,
    "pycharm": {
     "name": "#%%\n"
    }
   }
  }
 ],
 "metadata": {
  "interpreter": {
   "hash": "9d1a0f5ee93e8ea41525e734c1178b150c3383b451469805b56a05295a9fb3ab"
  },
  "kernelspec": {
   "name": "python3",
   "language": "python",
   "display_name": "Python 3 (ipykernel)"
  },
  "language_info": {
   "codemirror_mode": {
    "name": "ipython",
    "version": 3
   },
   "file_extension": ".py",
   "mimetype": "text/x-python",
   "name": "python",
   "nbconvert_exporter": "python",
   "pygments_lexer": "ipython3",
   "version": "3.9.5"
  },
  "orig_nbformat": 4
 },
 "nbformat": 4,
 "nbformat_minor": 2
}