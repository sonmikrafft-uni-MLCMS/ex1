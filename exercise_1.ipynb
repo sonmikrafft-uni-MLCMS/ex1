{
 "cells": [
  {
   "cell_type": "markdown",
   "metadata": {},
   "source": [
    "# Task 1 - Setting up the modelling environment"
   ]
  },
  {
   "cell_type": "code",
   "execution_count": 1,
   "metadata": {},
   "outputs": [],
   "source": [
    "import tkinter as tk\n",
    "from helpers.gui import GUI\n",
    "\n",
    "root = tk.Tk()\n",
    "gui = GUI(root, 'scenario_0.csv')\n",
    "root.mainloop()"
   ]
  },
  {
   "cell_type": "markdown",
   "metadata": {},
   "source": [
    "# Showing capabilities of `CellularAutomaton` class"
   ]
  },
  {
   "cell_type": "markdown",
   "metadata": {},
   "source": [
    "## Imports"
   ]
  },
  {
   "cell_type": "code",
   "execution_count": 6,
   "metadata": {},
   "outputs": [],
   "source": [
    "from helpers.cellular_automaton import CellularAutomaton, CellState, fill_from_scenario_file"
   ]
  },
  {
   "cell_type": "markdown",
   "metadata": {},
   "source": [
    "## Creating a `CellularAutomaton` object from scratch"
   ]
  },
  {
   "cell_type": "code",
   "execution_count": 11,
   "metadata": {},
   "outputs": [
    {
     "name": "stdout",
     "output_type": "stream",
     "text": [
      "[                            ]\n",
      "[P     O        T            ]\n"
     ]
    }
   ],
   "source": [
    "myCellularAutomaton1 = CellularAutomaton((2, 10))\n",
    "myCellularAutomaton1.add(CellState.OBSTACLE, (1,2))\n",
    "myCellularAutomaton1.add(CellState.PEDESTRIAN, (1, 0))\n",
    "myCellularAutomaton1.add(CellState.TARGET, (1, 5))\n",
    "myCellularAutomaton1.visualize_grid()"
   ]
  },
  {
   "cell_type": "markdown",
   "metadata": {},
   "source": [
    "## Creating a `CellularAutomaton` object from a scenario file"
   ]
  },
  {
   "cell_type": "code",
   "execution_count": 12,
   "metadata": {},
   "outputs": [
    {
     "name": "stdout",
     "output_type": "stream",
     "text": [
      "[                            ]\n",
      "[                            ]\n",
      "[      P                     ]\n",
      "[         O                  ]\n",
      "[            T               ]\n",
      "[                            ]\n",
      "[                            ]\n",
      "[                            ]\n",
      "[                            ]\n",
      "[                            ]\n"
     ]
    }
   ],
   "source": [
    "myCellularAutomaton2 = fill_from_scenario_file('scenario_0.csv')\n",
    "myCellularAutomaton2.visualize_grid()"
   ]
  },
  {
   "cell_type": "markdown",
   "metadata": {},
   "source": [
    "## Simulating"
   ]
  },
  {
   "cell_type": "code",
   "execution_count": 13,
   "metadata": {},
   "outputs": [
    {
     "name": "stdout",
     "output_type": "stream",
     "text": [
      "[                            ]\n",
      "[   P  O        T            ]\n"
     ]
    }
   ],
   "source": [
    "myCellularAutomaton1.simulate_next()\n",
    "myCellularAutomaton1.visualize_grid()"
   ]
  },
  {
   "cell_type": "code",
   "execution_count": 14,
   "metadata": {},
   "outputs": [
    {
     "name": "stdout",
     "output_type": "stream",
     "text": [
      "[      P                     ]\n",
      "[      O        T            ]\n"
     ]
    }
   ],
   "source": [
    "myCellularAutomaton1.simulate_next()\n",
    "myCellularAutomaton1.visualize_grid()"
   ]
  },
  {
   "cell_type": "markdown",
   "metadata": {},
   "source": [
    "## Simulating n steps and printing results afterwards"
   ]
  },
  {
   "cell_type": "code",
   "execution_count": 17,
   "metadata": {},
   "outputs": [
    {
     "name": "stdout",
     "output_type": "stream",
     "text": [
      "Iteration 0:\n",
      "[                            ]\n",
      "[P     O        T            ]\n",
      "Iteration 1:\n",
      "[                            ]\n",
      "[   P  O        T            ]\n",
      "Iteration 2:\n",
      "[      P                     ]\n",
      "[      O        T            ]\n",
      "Iteration 3:\n",
      "[                            ]\n",
      "[      O  P     T            ]\n",
      "Iteration 4:\n",
      "[                            ]\n",
      "[      O     P  T            ]\n",
      "Iteration 5:\n",
      "[                            ]\n",
      "[      O        T            ]\n",
      "Iteration 6:\n",
      "[                            ]\n",
      "[      O        T            ]\n",
      "Iteration 7:\n",
      "[                            ]\n",
      "[      O        T            ]\n",
      "Iteration 8:\n",
      "[                            ]\n",
      "[      O        T            ]\n"
     ]
    }
   ],
   "source": [
    "myCellularAutomaton1.reset_to_iteration(0)\n",
    "\n",
    "num_iter = 8\n",
    "myCellularAutomaton1.simulate_next_n(num_iter)\n",
    "\n",
    "for i in range(num_iter + 1):\n",
    "    print(f'Iteration {i}:')\n",
    "    myCellularAutomaton1.visualize_grid(iteration=i)"
   ]
  }
 ],
 "metadata": {
  "interpreter": {
   "hash": "9d1a0f5ee93e8ea41525e734c1178b150c3383b451469805b56a05295a9fb3ab"
  },
  "kernelspec": {
   "display_name": "Python 3.9.5 64-bit ('mlcs': venv)",
   "name": "python3"
  },
  "language_info": {
   "codemirror_mode": {
    "name": "ipython",
    "version": 3
   },
   "file_extension": ".py",
   "mimetype": "text/x-python",
   "name": "python",
   "nbconvert_exporter": "python",
   "pygments_lexer": "ipython3",
   "version": "3.9.5"
  },
  "orig_nbformat": 4
 },
 "nbformat": 4,
 "nbformat_minor": 2
}
