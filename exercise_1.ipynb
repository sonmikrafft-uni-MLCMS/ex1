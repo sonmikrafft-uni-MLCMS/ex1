{
 "cells": [
  {
   "cell_type": "markdown",
   "metadata": {},
   "source": [
    "# Task 1 - Setting up the modelling environment"
   ]
  },
  {
   "cell_type": "code",
   "execution_count": 1,
   "metadata": {},
   "outputs": [
    {
     "name": "stdout",
     "output_type": "stream",
     "text": [
      "scenario_0.csv\n"
     ]
    },
    {
     "name": "stderr",
     "output_type": "stream",
     "text": [
      "Exception in Tkinter callback\n",
      "Traceback (most recent call last):\n",
      "  File \"C:\\Users\\Timur\\anaconda3\\envs\\mlcms\\lib\\site-packages\\pandas\\core\\indexes\\base.py\", line 3361, in get_loc\n",
      "    return self._engine.get_loc(casted_key)\n",
      "  File \"pandas\\_libs\\index.pyx\", line 76, in pandas._libs.index.IndexEngine.get_loc\n",
      "  File \"pandas\\_libs\\index.pyx\", line 108, in pandas._libs.index.IndexEngine.get_loc\n",
      "  File \"pandas\\_libs\\hashtable_class_helper.pxi\", line 5198, in pandas._libs.hashtable.PyObjectHashTable.get_item\n",
      "  File \"pandas\\_libs\\hashtable_class_helper.pxi\", line 5206, in pandas._libs.hashtable.PyObjectHashTable.get_item\n",
      "KeyError: 'position_target_zone'\n",
      "\n",
      "The above exception was the direct cause of the following exception:\n",
      "\n",
      "Traceback (most recent call last):\n",
      "  File \"C:\\Users\\Timur\\anaconda3\\envs\\mlcms\\lib\\tkinter\\__init__.py\", line 1892, in __call__\n",
      "    return self.func(*args)\n",
      "  File \"m:\\Semester_03\\IN2106_MLCMS\\Exc_1\\mlcs-ex1-modeling-crowds-2\\helpers\\gui.py\", line 157, in get_scenario_path\n",
      "    self.update_scenario(scenario_file_path)\n",
      "  File \"m:\\Semester_03\\IN2106_MLCMS\\Exc_1\\mlcs-ex1-modeling-crowds-2\\helpers\\gui.py\", line 30, in update_scenario\n",
      "    self.my_cellular_automaton = fill_from_scenario_file(rel_scenario_file_path)\n",
      "  File \"m:\\Semester_03\\IN2106_MLCMS\\Exc_1\\mlcs-ex1-modeling-crowds-2\\helpers\\cellular_automaton.py\", line 424, in fill_from_scenario_file\n",
      "    target_positions = df['position_target_zone']\n",
      "  File \"C:\\Users\\Timur\\anaconda3\\envs\\mlcms\\lib\\site-packages\\pandas\\core\\frame.py\", line 3458, in __getitem__\n",
      "    indexer = self.columns.get_loc(key)\n",
      "  File \"C:\\Users\\Timur\\anaconda3\\envs\\mlcms\\lib\\site-packages\\pandas\\core\\indexes\\base.py\", line 3363, in get_loc\n",
      "    raise KeyError(key) from err\n",
      "KeyError: 'position_target_zone'\n"
     ]
    }
   ],
   "source": [
    "import tkinter as tk\n",
    "from helpers.gui import GUI\n",
    "\n",
    "root = tk.Tk()\n",
    "gui = GUI(root)\n",
    "root.mainloop()\n"
   ]
  },
  {
   "cell_type": "markdown",
   "metadata": {},
   "source": []
  },
  {
   "cell_type": "markdown",
   "metadata": {},
   "source": [
    "# Showing capabilities of `CellularAutomaton` class"
   ]
  },
  {
   "cell_type": "markdown",
   "metadata": {},
   "source": [
    "## Imports"
   ]
  },
  {
   "cell_type": "code",
   "execution_count": 2,
   "metadata": {},
   "outputs": [],
   "source": [
    "from helpers.cellular_automaton import CellularAutomaton, CellState, fill_from_scenario_file"
   ]
  },
  {
   "cell_type": "markdown",
   "metadata": {},
   "source": [
    "## Creating a `CellularAutomaton` object from scratch"
   ]
  },
  {
   "cell_type": "code",
   "execution_count": 6,
   "metadata": {},
   "outputs": [
    {
     "name": "stdout",
     "output_type": "stream",
     "text": [
      "[                            ]\n",
      "[P     O        T            ]\n"
     ]
    }
   ],
   "source": [
    "myCellularAutomaton1 = CellularAutomaton((2, 10))\n",
    "myCellularAutomaton1.add(CellState.OBSTACLE, (1,2))\n",
    "myCellularAutomaton1.add(CellState.PEDESTRIAN, (1, 0))\n",
    "myCellularAutomaton1.add(CellState.TARGET, (1, 5))\n",
    "myCellularAutomaton1.visualize_state_grid()"
   ]
  },
  {
   "cell_type": "markdown",
   "metadata": {},
   "source": [
    "## Creating a `CellularAutomaton` object from a scenario file"
   ]
  },
  {
   "cell_type": "code",
   "execution_count": 4,
   "metadata": {},
   "outputs": [
    {
     "name": "stdout",
     "output_type": "stream",
     "text": [
      "[                                                                                                                                                    ]\n",
      "[                                                                                                                                                    ]\n",
      "[      P                                                                                                                                             ]\n",
      "[         O                                                                                                                                          ]\n",
      "[            T                                                                                                                                       ]\n",
      "[                                                                                                                                                    ]\n",
      "[                                                                                                                                                    ]\n",
      "[                                                                                                                                                    ]\n",
      "[                                                                                                                                                    ]\n",
      "[                                                                                                                                                    ]\n",
      "[                                                                                                                                                    ]\n",
      "[                                                                                                                                                    ]\n",
      "[                                                                                                                                                    ]\n",
      "[                                                                                                                                                    ]\n",
      "[                                                                                                                                                    ]\n",
      "[                                                                                                                                                    ]\n",
      "[                                                                                                                                                    ]\n",
      "[                                                                                                                                                    ]\n",
      "[                                                                                                                                                    ]\n",
      "[                                                                                                                                                    ]\n",
      "[                                                                                                                                                    ]\n",
      "[                                                                                                                                                    ]\n",
      "[                                                                                                                                                    ]\n",
      "[                                                                                                                                                    ]\n",
      "[                                                                                                                                                    ]\n",
      "[                                                                                                                                                    ]\n",
      "[                                                                                                                                                    ]\n",
      "[                                                                                                                                                    ]\n",
      "[                                                                                                                                                    ]\n",
      "[                                                                                                                                                    ]\n",
      "[                                                                                                                                                    ]\n",
      "[                                                                                                                                                    ]\n",
      "[                                                                                                                                                    ]\n",
      "[                                                                                                                                                    ]\n",
      "[                                                                                                                                                    ]\n",
      "[                                                                                                                                                    ]\n",
      "[                                                                                                                                                    ]\n",
      "[                                                                                                                                                    ]\n",
      "[                                                                                                                                                    ]\n",
      "[                                                                                                                                                    ]\n",
      "[                                                                                                                                                    ]\n",
      "[                                                                                                                                                    ]\n",
      "[                                                                                                                                                    ]\n",
      "[                                                                                                                                                    ]\n",
      "[                                                                                                                                                    ]\n",
      "[                                                                                                                                                    ]\n",
      "[                                                                                                                                                    ]\n",
      "[                                                                                                                                                    ]\n",
      "[                                                                                                                                                    ]\n",
      "[                                                                                                                                                    ]\n"
     ]
    }
   ],
   "source": [
    "myCellularAutomaton2 = fill_from_scenario_file('scenario_0.csv')\n",
    "myCellularAutomaton2.visualize_state_grid()"
   ]
  },
  {
   "cell_type": "markdown",
   "metadata": {},
   "source": [
    "## Simulating"
   ]
  },
  {
   "cell_type": "code",
   "execution_count": 8,
   "metadata": {},
   "outputs": [
    {
     "name": "stdout",
     "output_type": "stream",
     "text": [
      "[   P                        ]\n",
      "[      O        T            ]\n"
     ]
    }
   ],
   "source": [
    "myCellularAutomaton1.simulate_next()\n",
    "myCellularAutomaton1.visualize_state_grid()"
   ]
  },
  {
   "cell_type": "code",
   "execution_count": 9,
   "metadata": {},
   "outputs": [
    {
     "name": "stdout",
     "output_type": "stream",
     "text": [
      "[      P                     ]\n",
      "[      O        T            ]\n"
     ]
    }
   ],
   "source": [
    "myCellularAutomaton1.simulate_next()\n",
    "myCellularAutomaton1.visualize_state_grid()"
   ]
  },
  {
   "cell_type": "markdown",
   "metadata": {},
   "source": [
    "## Simulating at most n steps and printing results afterwards"
   ]
  },
  {
   "cell_type": "code",
   "execution_count": 10,
   "metadata": {},
   "outputs": [
    {
     "name": "stdout",
     "output_type": "stream",
     "text": [
      "Iteration 0:\n",
      "[                            ]\n",
      "[P     O        T            ]\n",
      "Iteration 1:\n",
      "[   P                        ]\n",
      "[      O        T            ]\n",
      "Iteration 2:\n",
      "[      P                     ]\n",
      "[      O        T            ]\n",
      "Iteration 3:\n",
      "[                            ]\n",
      "[      O  P     T            ]\n",
      "Iteration 4:\n",
      "[                            ]\n",
      "[      O     P  T            ]\n",
      "Iteration 5:\n",
      "[                            ]\n",
      "[      O        T            ]\n"
     ]
    }
   ],
   "source": [
    "myCellularAutomaton1.reset_to_iteration(0)\n",
    "\n",
    "num_iter = 8\n",
    "myCellularAutomaton1.simulate_next_n(num_iter)\n",
    "\n",
    "for i in range(myCellularAutomaton1.curr_iter + 1):\n",
    "    print(f'Iteration {i}:')\n",
    "    myCellularAutomaton1.visualize_state_grid(iteration=i)"
   ]
  },
  {
   "cell_type": "markdown",
   "metadata": {},
   "source": [
    "## Simulating until no change"
   ]
  },
  {
   "cell_type": "code",
   "execution_count": 11,
   "metadata": {},
   "outputs": [
    {
     "name": "stdout",
     "output_type": "stream",
     "text": [
      "Iteration 0:\n",
      "[                            ]\n",
      "[P     O        T            ]\n",
      "Iteration 1:\n",
      "[   P                        ]\n",
      "[      O        T            ]\n",
      "Iteration 2:\n",
      "[      P                     ]\n",
      "[      O        T            ]\n",
      "Iteration 3:\n",
      "[                            ]\n",
      "[      O  P     T            ]\n",
      "Iteration 4:\n",
      "[                            ]\n",
      "[      O     P  T            ]\n",
      "Iteration 5:\n",
      "[                            ]\n",
      "[      O        T            ]\n"
     ]
    }
   ],
   "source": [
    "myCellularAutomaton1.simulate_until_no_change()\n",
    "\n",
    "for i in range(myCellularAutomaton1.curr_iter + 1):\n",
    "    print(f'Iteration {i}:')\n",
    "    myCellularAutomaton1.visualize_state_grid(iteration=i)"
   ]
  },
  {
   "cell_type": "markdown",
   "metadata": {},
   "source": [
    "##  Get grid at past iteration"
   ]
  },
  {
   "cell_type": "code",
   "execution_count": 12,
   "metadata": {},
   "outputs": [
    {
     "data": {
      "text/plain": [
       "array([[<CellState.EMPTY: 'E'>, <CellState.EMPTY: 'E'>,\n",
       "        <CellState.EMPTY: 'E'>, <CellState.EMPTY: 'E'>,\n",
       "        <CellState.EMPTY: 'E'>, <CellState.EMPTY: 'E'>,\n",
       "        <CellState.EMPTY: 'E'>, <CellState.EMPTY: 'E'>,\n",
       "        <CellState.EMPTY: 'E'>, <CellState.EMPTY: 'E'>],\n",
       "       [<CellState.PEDESTRIAN: 'P'>, <CellState.EMPTY: 'E'>,\n",
       "        <CellState.OBSTACLE: 'O'>, <CellState.EMPTY: 'E'>,\n",
       "        <CellState.EMPTY: 'E'>, <CellState.TARGET: 'T'>,\n",
       "        <CellState.EMPTY: 'E'>, <CellState.EMPTY: 'E'>,\n",
       "        <CellState.EMPTY: 'E'>, <CellState.EMPTY: 'E'>]], dtype=object)"
      ]
     },
     "execution_count": 12,
     "metadata": {},
     "output_type": "execute_result"
    }
   ],
   "source": [
    "myCellularAutomaton1.state_grid_history[0]"
   ]
  },
  {
   "cell_type": "markdown",
   "metadata": {},
   "source": [
    "# Checks for the Utility Grid"
   ]
  },
  {
   "cell_type": "code",
   "execution_count": 13,
   "metadata": {
    "collapsed": false,
    "pycharm": {
     "name": "#%%\n"
    }
   },
   "outputs": [
    {
     "name": "stdout",
     "output_type": "stream",
     "text": [
      "[                            ]\n",
      "[   T                        ]\n",
      "[                            ]\n",
      "[                            ]\n",
      "[                            ]\n",
      "[                        T   ]\n",
      "[                        T   ]\n",
      "[                            ]\n",
      "[                            ]\n",
      "[                            ]\n",
      "[[ 1.41  1.00  1.41  2.41  3.41  4.41  5.41  5.41  5.00  5.41]\n",
      " [ 1.00  0.00  1.00  2.00  3.00  4.00  4.83  4.41  4.00  4.41]\n",
      " [ 1.41  1.00  1.41  2.41  3.41  4.24  3.83  3.41  3.00  3.41]\n",
      " [ 2.41  2.00  2.41  2.83  3.83  3.83  2.83  2.41  2.00  2.41]\n",
      " [ 3.41  3.00  3.41  3.83  4.24  3.41  2.41  1.41  1.00  1.41]\n",
      " [ 4.41  4.00  4.41  4.83  4.00  3.00  2.00  1.00  0.00  1.00]\n",
      " [ 5.41  5.00  5.41  5.00  4.00  3.00  2.00  1.00  0.00  1.00]\n",
      " [ 6.41  6.00  6.41  5.41  4.41  3.41  2.41  1.41  1.00  1.41]\n",
      " [ 7.41  7.00  6.83  5.83  4.83  3.83  2.83  2.41  2.00  2.41]\n",
      " [ 8.41  8.00  7.24  6.24  5.24  4.24  3.83  3.41  3.00  3.41]]\n"
     ]
    }
   ],
   "source": [
    "# Test computation of Utilities with multiple targets\n",
    "\n",
    "from helpers.cellular_automaton import CellState, CellularAutomaton\n",
    "\n",
    "multipleTargetsAutomaton = CellularAutomaton((10,10))\n",
    "multipleTargetsAutomaton.add(CellState.TARGET, (5,8))\n",
    "multipleTargetsAutomaton.add(CellState.TARGET, (6,8))\n",
    "multipleTargetsAutomaton.add(CellState.TARGET, (1,1))\n",
    "\n",
    "multipleTargetsAutomaton.visualize_state_grid()\n",
    "multipleTargetsAutomaton.print_utilities(smart_obstacle_avoidance=True)"
   ]
  },
  {
   "cell_type": "code",
   "execution_count": 14,
   "metadata": {
    "collapsed": false,
    "pycharm": {
     "name": "#%%\n"
    }
   },
   "outputs": [
    {
     "name": "stdout",
     "output_type": "stream",
     "text": [
      "[                            ]\n",
      "[                            ]\n",
      "[                            ]\n",
      "[               O            ]\n",
      "[               O            ]\n",
      "[P              O        T   ]\n",
      "[               O            ]\n",
      "[               O            ]\n",
      "[                            ]\n",
      "[                            ]\n"
     ]
    }
   ],
   "source": [
    "# Chicken Scenario\n",
    "\n",
    "from helpers.cellular_automaton import CellState, CellularAutomaton\n",
    "\n",
    "chickenAutomaton = CellularAutomaton((10,10))\n",
    "chickenAutomaton.add(CellState.PEDESTRIAN, (5,0))\n",
    "chickenAutomaton.add(CellState.TARGET, (5,8))\n",
    "chickenAutomaton.add(CellState.OBSTACLE, (3,5))\n",
    "chickenAutomaton.add(CellState.OBSTACLE, (4,5))\n",
    "chickenAutomaton.add(CellState.OBSTACLE, (5,5))\n",
    "chickenAutomaton.add(CellState.OBSTACLE, (6,5))\n",
    "chickenAutomaton.add(CellState.OBSTACLE, (7,5))\n",
    "\n",
    "chickenAutomaton.visualize_state_grid()"
   ]
  },
  {
   "cell_type": "code",
   "execution_count": 15,
   "metadata": {
    "collapsed": false,
    "pycharm": {
     "name": "#%%\n"
    }
   },
   "outputs": [
    {
     "name": "stdout",
     "output_type": "stream",
     "text": [
      "[[ 10.07  9.07  8.07  7.07  6.66  6.24  5.83  5.41  5.00  5.41]\n",
      " [ 9.66  8.66  7.66  6.66  5.66  5.24  4.83  4.41  4.00  4.41]\n",
      " [ 9.24  8.24  7.24  6.24  5.24  4.24  3.83  3.41  3.00  3.41]\n",
      " [ 8.83  7.83  6.83  5.83  4.83  inf  2.83  2.41  2.00  2.41]\n",
      " [ 8.41  7.41  6.41  5.41  4.41  inf  2.41  1.41  1.00  1.41]\n",
      " [ 8.00  7.00  6.00  5.00  4.00  inf  2.00  1.00  0.00  1.00]\n",
      " [ 8.41  7.41  6.41  5.41  4.41  inf  2.41  1.41  1.00  1.41]\n",
      " [ 8.83  7.83  6.83  5.83  4.83  inf  2.83  2.41  2.00  2.41]\n",
      " [ 9.24  8.24  7.24  6.24  5.24  4.24  3.83  3.41  3.00  3.41]\n",
      " [ 9.66  8.66  7.66  6.66  5.66  5.24  4.83  4.41  4.00  4.41]]\n"
     ]
    }
   ],
   "source": [
    "## Compute Utilities without smart obstacle avoidance\n",
    "chickenAutomaton.print_utilities(smart_obstacle_avoidance=False)"
   ]
  },
  {
   "cell_type": "code",
   "execution_count": 16,
   "metadata": {
    "collapsed": false,
    "pycharm": {
     "name": "#%%\n"
    }
   },
   "outputs": [
    {
     "name": "stdout",
     "output_type": "stream",
     "text": [
      "[[ 10.07  9.07  8.07  7.07  6.66  6.24  5.83  5.41  5.00  5.41]\n",
      " [ 9.66  8.66  7.66  6.66  5.66  5.24  4.83  4.41  4.00  4.41]\n",
      " [ 9.24  8.24  7.24  6.24  5.24  4.24  3.83  3.41  3.00  3.41]\n",
      " [ 9.66  8.66  7.66  6.66  5.66  inf  2.83  2.41  2.00  2.41]\n",
      " [ 10.07  9.07  8.07  7.07  6.66  inf  2.41  1.41  1.00  1.41]\n",
      " [ 10.49  9.49  8.49  8.07  7.66  inf  2.00  1.00  0.00  1.00]\n",
      " [ 10.07  9.07  8.07  7.07  6.66  inf  2.41  1.41  1.00  1.41]\n",
      " [ 9.66  8.66  7.66  6.66  5.66  inf  2.83  2.41  2.00  2.41]\n",
      " [ 9.24  8.24  7.24  6.24  5.24  4.24  3.83  3.41  3.00  3.41]\n",
      " [ 9.66  8.66  7.66  6.66  5.66  5.24  4.83  4.41  4.00  4.41]]\n"
     ]
    }
   ],
   "source": [
    "## Compute Utilities with smart obstacle avoidance\n",
    "chickenAutomaton.print_utilities(smart_obstacle_avoidance=True)"
   ]
  },
  {
   "cell_type": "code",
   "execution_count": 17,
   "metadata": {},
   "outputs": [
    {
     "name": "stdout",
     "output_type": "stream",
     "text": [
      "Iteration 0:\n",
      "[                            ]\n",
      "[                            ]\n",
      "[                            ]\n",
      "[               O            ]\n",
      "[               O            ]\n",
      "[P              O        T   ]\n",
      "[               O            ]\n",
      "[               O            ]\n",
      "[                            ]\n",
      "[                            ]\n",
      "Iteration 1:\n",
      "[                            ]\n",
      "[                            ]\n",
      "[                            ]\n",
      "[               O            ]\n",
      "[               O            ]\n",
      "[   P           O        T   ]\n",
      "[               O            ]\n",
      "[               O            ]\n",
      "[                            ]\n",
      "[                            ]\n",
      "Iteration 2:\n",
      "[                            ]\n",
      "[                            ]\n",
      "[                            ]\n",
      "[               O            ]\n",
      "[               O            ]\n",
      "[      P        O        T   ]\n",
      "[               O            ]\n",
      "[               O            ]\n",
      "[                            ]\n",
      "[                            ]\n",
      "Iteration 3:\n",
      "[                            ]\n",
      "[                            ]\n",
      "[                            ]\n",
      "[               O            ]\n",
      "[               O            ]\n",
      "[         P     O        T   ]\n",
      "[               O            ]\n",
      "[               O            ]\n",
      "[                            ]\n",
      "[                            ]\n",
      "Iteration 4:\n",
      "[                            ]\n",
      "[                            ]\n",
      "[                            ]\n",
      "[               O            ]\n",
      "[               O            ]\n",
      "[            P  O        T   ]\n",
      "[               O            ]\n",
      "[               O            ]\n",
      "[                            ]\n",
      "[                            ]\n"
     ]
    }
   ],
   "source": [
    "num_iter = 8\n",
    "chickenAutomaton.simulate_next_n(num_iter, smart_obstacle_avoidance=False)\n",
    "\n",
    "for i in range(chickenAutomaton.curr_iter + 1):\n",
    "    print(f'Iteration {i}:')\n",
    "    chickenAutomaton.visualize_state_grid(iteration=i)"
   ]
  },
  {
   "cell_type": "code",
   "execution_count": 18,
   "metadata": {},
   "outputs": [
    {
     "name": "stdout",
     "output_type": "stream",
     "text": [
      "Iteration 0:\n",
      "[                            ]\n",
      "[                            ]\n",
      "[                            ]\n",
      "[               O            ]\n",
      "[               O            ]\n",
      "[P              O        T   ]\n",
      "[               O            ]\n",
      "[               O            ]\n",
      "[                            ]\n",
      "[                            ]\n",
      "Iteration 1:\n",
      "[                            ]\n",
      "[                            ]\n",
      "[                            ]\n",
      "[               O            ]\n",
      "[               O            ]\n",
      "[               O        T   ]\n",
      "[   P           O            ]\n",
      "[               O            ]\n",
      "[                            ]\n",
      "[                            ]\n",
      "Iteration 2:\n",
      "[                            ]\n",
      "[                            ]\n",
      "[                            ]\n",
      "[               O            ]\n",
      "[               O            ]\n",
      "[               O        T   ]\n",
      "[               O            ]\n",
      "[      P        O            ]\n",
      "[                            ]\n",
      "[                            ]\n",
      "Iteration 3:\n",
      "[                            ]\n",
      "[                            ]\n",
      "[                            ]\n",
      "[               O            ]\n",
      "[               O            ]\n",
      "[               O        T   ]\n",
      "[               O            ]\n",
      "[               O            ]\n",
      "[         P                  ]\n",
      "[                            ]\n",
      "Iteration 4:\n",
      "[                            ]\n",
      "[                            ]\n",
      "[                            ]\n",
      "[               O            ]\n",
      "[               O            ]\n",
      "[               O        T   ]\n",
      "[               O            ]\n",
      "[               O            ]\n",
      "[            P               ]\n",
      "[                            ]\n",
      "Iteration 5:\n",
      "[                            ]\n",
      "[                            ]\n",
      "[                            ]\n",
      "[               O            ]\n",
      "[               O            ]\n",
      "[               O        T   ]\n",
      "[               O            ]\n",
      "[               O            ]\n",
      "[               P            ]\n",
      "[                            ]\n",
      "Iteration 6:\n",
      "[                            ]\n",
      "[                            ]\n",
      "[                            ]\n",
      "[               O            ]\n",
      "[               O            ]\n",
      "[               O        T   ]\n",
      "[               O            ]\n",
      "[               O  P         ]\n",
      "[                            ]\n",
      "[                            ]\n",
      "Iteration 7:\n",
      "[                            ]\n",
      "[                            ]\n",
      "[                            ]\n",
      "[               O            ]\n",
      "[               O            ]\n",
      "[               O        T   ]\n",
      "[               O     P      ]\n",
      "[               O            ]\n",
      "[                            ]\n",
      "[                            ]\n",
      "Iteration 8:\n",
      "[                            ]\n",
      "[                            ]\n",
      "[                            ]\n",
      "[               O            ]\n",
      "[               O            ]\n",
      "[               O        T   ]\n",
      "[               O            ]\n",
      "[               O            ]\n",
      "[                            ]\n",
      "[                            ]\n"
     ]
    }
   ],
   "source": [
    "num_iter = 8\n",
    "chickenAutomaton.reset_to_iteration(0)\n",
    "chickenAutomaton.simulate_next_n(num_iter)\n",
    "\n",
    "for i in range(chickenAutomaton.curr_iter + 1):\n",
    "    print(f'Iteration {i}:')\n",
    "    chickenAutomaton.visualize_state_grid(iteration=i)"
   ]
  }
 ],
 "metadata": {
  "interpreter": {
   "hash": "17891dba61472034858f0c09a797bb98893899f5ec268a56acfb2c781532685e"
  },
  "kernelspec": {
   "display_name": "Python 3.9.7 64-bit ('mlcms': conda)",
   "name": "python3"
  },
  "language_info": {
   "codemirror_mode": {
    "name": "ipython",
    "version": 3
   },
   "file_extension": ".py",
   "mimetype": "text/x-python",
   "name": "python",
   "nbconvert_exporter": "python",
   "pygments_lexer": "ipython3",
   "version": "3.9.7"
  },
  "orig_nbformat": 4
 },
 "nbformat": 4,
 "nbformat_minor": 2
}
