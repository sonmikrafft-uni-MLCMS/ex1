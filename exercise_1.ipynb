{
 "cells": [
  {
   "cell_type": "markdown",
   "metadata": {},
   "source": [
    "# Task 1 - Setting up the modelling environment"
   ]
  },
  {
   "cell_type": "code",
   "execution_count": null,
   "metadata": {},
   "outputs": [],
   "source": [
    "import tkinter as tk\n",
    "from helpers.gui import GUI\n",
    "\n",
    "root = tk.Tk()\n",
    "gui = GUI(root, 'scenario_0.csv')\n",
    "root.mainloop()"
   ]
  },
  {
   "cell_type": "markdown",
   "metadata": {},
   "source": [
    "# Showing capabilities of `CellularAutomaton` class"
   ]
  },
  {
   "cell_type": "markdown",
   "metadata": {},
   "source": [
    "## Imports"
   ]
  },
  {
   "cell_type": "code",
   "execution_count": 1,
   "metadata": {},
   "outputs": [],
   "source": [
    "from helpers.cellular_automaton import CellularAutomaton, CellState, fill_from_scenario_file"
   ]
  },
  {
   "cell_type": "markdown",
   "metadata": {},
   "source": [
    "## Creating a `CellularAutomaton` object from scratch"
   ]
  },
  {
   "cell_type": "code",
   "execution_count": 2,
   "metadata": {},
   "outputs": [
    {
     "name": "stdout",
     "output_type": "stream",
     "text": [
      "[                            ]\n",
      "[P     O        T            ]\n"
     ]
    }
   ],
   "source": [
    "myCellularAutomaton1 = CellularAutomaton((2, 10))\n",
    "myCellularAutomaton1.add(CellState.OBSTACLE, (1,2))\n",
    "myCellularAutomaton1.add(CellState.PEDESTRIAN, (1, 0))\n",
    "myCellularAutomaton1.add(CellState.TARGET, (1, 5))\n",
    "myCellularAutomaton1.visualize_grid()"
   ]
  },
  {
   "cell_type": "markdown",
   "metadata": {},
   "source": [
    "## Creating a `CellularAutomaton` object from a scenario file"
   ]
  },
  {
   "cell_type": "code",
   "execution_count": 3,
   "metadata": {},
   "outputs": [
    {
     "name": "stdout",
     "output_type": "stream",
     "text": [
      "[                            ]\n",
      "[                            ]\n",
      "[      P                     ]\n",
      "[         O                  ]\n",
      "[            T               ]\n",
      "[                            ]\n",
      "[                            ]\n",
      "[                            ]\n",
      "[                            ]\n",
      "[                            ]\n"
     ]
    }
   ],
   "source": [
    "myCellularAutomaton2 = fill_from_scenario_file('scenario_0.csv')\n",
    "myCellularAutomaton2.visualize_grid()"
   ]
  },
  {
   "cell_type": "markdown",
   "metadata": {},
   "source": [
    "## Simulating"
   ]
  },
  {
   "cell_type": "code",
   "execution_count": 4,
   "metadata": {},
   "outputs": [
    {
     "name": "stdout",
     "output_type": "stream",
     "text": [
      "[   P                        ]\n",
      "[      O        T            ]\n"
     ]
    }
   ],
   "source": [
    "myCellularAutomaton1.simulate_next()\n",
    "myCellularAutomaton1.visualize_grid()"
   ]
  },
  {
   "cell_type": "code",
   "execution_count": 5,
   "metadata": {},
   "outputs": [
    {
     "name": "stdout",
     "output_type": "stream",
     "text": [
      "[      P                     ]\n",
      "[      O        T            ]\n"
     ]
    }
   ],
   "source": [
    "myCellularAutomaton1.simulate_next()\n",
    "myCellularAutomaton1.visualize_grid()"
   ]
  },
  {
   "cell_type": "markdown",
   "metadata": {},
   "source": [
    "## Simulating n steps and printing results afterwards"
   ]
  },
  {
   "cell_type": "code",
   "execution_count": 6,
   "metadata": {},
   "outputs": [
    {
     "name": "stdout",
     "output_type": "stream",
     "text": [
      "Iteration 0:\n",
      "[                            ]\n",
      "[P     O        T            ]\n",
      "Iteration 1:\n",
      "[   P                        ]\n",
      "[      O        T            ]\n",
      "Iteration 2:\n",
      "[      P                     ]\n",
      "[      O        T            ]\n",
      "Iteration 3:\n",
      "[                            ]\n",
      "[      O  P     T            ]\n",
      "Iteration 4:\n",
      "[                            ]\n",
      "[      O     P  T            ]\n",
      "Iteration 5:\n",
      "[                            ]\n",
      "[      O        T            ]\n",
      "Iteration 6:\n",
      "[                            ]\n",
      "[      O        T            ]\n",
      "Iteration 7:\n",
      "[                            ]\n",
      "[      O        T            ]\n",
      "Iteration 8:\n",
      "[                            ]\n",
      "[      O        T            ]\n"
     ]
    }
   ],
   "source": [
    "myCellularAutomaton1.reset_to_iteration(0)\n",
    "\n",
    "num_iter = 8\n",
    "myCellularAutomaton1.simulate_next_n(num_iter)\n",
    "\n",
    "for i in range(num_iter + 1):\n",
    "    print(f'Iteration {i}:')\n",
    "    myCellularAutomaton1.visualize_grid(iteration=i)"
   ]
  },
  {
   "cell_type": "markdown",
   "metadata": {},
   "source": [
    "##  Get grid at past iteration"
   ]
  },
  {
   "cell_type": "code",
   "execution_count": 7,
   "metadata": {},
   "outputs": [
    {
     "data": {
      "text/plain": [
       "array([[<CellState.EMPTY: 'E'>, <CellState.EMPTY: 'E'>,\n",
       "        <CellState.EMPTY: 'E'>, <CellState.EMPTY: 'E'>,\n",
       "        <CellState.EMPTY: 'E'>, <CellState.EMPTY: 'E'>,\n",
       "        <CellState.EMPTY: 'E'>, <CellState.EMPTY: 'E'>,\n",
       "        <CellState.EMPTY: 'E'>, <CellState.EMPTY: 'E'>],\n",
       "       [<CellState.PEDESTRIAN: 'P'>, <CellState.EMPTY: 'E'>,\n",
       "        <CellState.OBSTACLE: 'O'>, <CellState.EMPTY: 'E'>,\n",
       "        <CellState.EMPTY: 'E'>, <CellState.TARGET: 'T'>,\n",
       "        <CellState.EMPTY: 'E'>, <CellState.EMPTY: 'E'>,\n",
       "        <CellState.EMPTY: 'E'>, <CellState.EMPTY: 'E'>]], dtype=object)"
      ]
     },
     "execution_count": 7,
     "metadata": {},
     "output_type": "execute_result"
    }
   ],
   "source": [
    "myCellularAutomaton1.grid_history[0]"
   ]
  },
  {
   "cell_type": "markdown",
   "metadata": {},
   "source": [
    "# Checks for the Utility Grid"
   ]
  },
  {
   "cell_type": "code",
   "execution_count": 8,
   "metadata": {
    "collapsed": false,
    "pycharm": {
     "name": "#%%\n"
    }
   },
   "outputs": [
    {
     "name": "stdout",
     "output_type": "stream",
     "text": [
      "[                            ]\n",
      "[   T                        ]\n",
      "[                            ]\n",
      "[                            ]\n",
      "[                            ]\n",
      "[                        T   ]\n",
      "[                        T   ]\n",
      "[                            ]\n",
      "[                            ]\n",
      "[                            ]\n",
      "[[ 1.41  1.00  1.41  2.41  3.41  4.41  5.41  5.41  5.00  5.41]\n",
      " [ 1.00  0.00  1.00  2.00  3.00  4.00  4.83  4.41  4.00  4.41]\n",
      " [ 1.41  1.00  1.41  2.41  3.41  4.24  3.83  3.41  3.00  3.41]\n",
      " [ 2.41  2.00  2.41  2.83  3.83  3.83  2.83  2.41  2.00  2.41]\n",
      " [ 3.41  3.00  3.41  3.83  4.24  3.41  2.41  1.41  1.00  1.41]\n",
      " [ 4.41  4.00  4.41  4.83  4.00  3.00  2.00  1.00  0.00  1.00]\n",
      " [ 5.41  5.00  5.41  5.00  4.00  3.00  2.00  1.00  0.00  1.00]\n",
      " [ 6.41  6.00  6.41  5.41  4.41  3.41  2.41  1.41  1.00  1.41]\n",
      " [ 7.41  7.00  6.83  5.83  4.83  3.83  2.83  2.41  2.00  2.41]\n",
      " [ 8.41  8.00  7.24  6.24  5.24  4.24  3.83  3.41  3.00  3.41]]\n"
     ]
    }
   ],
   "source": [
    "# Test computation of Utilities with multiple targets\n",
    "\n",
    "from helpers.cellular_automaton import CellState, CellularAutomaton\n",
    "\n",
    "multipleTargetsAutomaton = CellularAutomaton((10,10))\n",
    "multipleTargetsAutomaton.add(CellState.TARGET, (5,8))\n",
    "multipleTargetsAutomaton.add(CellState.TARGET, (6,8))\n",
    "multipleTargetsAutomaton.add(CellState.TARGET, (1,1))\n",
    "\n",
    "multipleTargetsAutomaton.visualize_grid()\n",
    "multipleTargetsAutomaton.print_utilities(smart_obstacle_avoidance=True)"
   ]
  },
  {
   "cell_type": "code",
   "execution_count": 9,
   "metadata": {
    "collapsed": false,
    "pycharm": {
     "name": "#%%\n"
    }
   },
   "outputs": [
    {
     "name": "stdout",
     "output_type": "stream",
     "text": [
      "[                            ]\n",
      "[                            ]\n",
      "[                            ]\n",
      "[               O            ]\n",
      "[               O            ]\n",
      "[P              O        T   ]\n",
      "[               O            ]\n",
      "[               O            ]\n",
      "[                            ]\n",
      "[                            ]\n"
     ]
    }
   ],
   "source": [
    "# Chicken Scenario\n",
    "\n",
    "from helpers.cellular_automaton import CellState, CellularAutomaton\n",
    "\n",
    "chickenAutomaton = CellularAutomaton((10,10))\n",
    "chickenAutomaton.add(CellState.PEDESTRIAN, (5,0))\n",
    "chickenAutomaton.add(CellState.TARGET, (5,8))\n",
    "chickenAutomaton.add(CellState.OBSTACLE, (3,5))\n",
    "chickenAutomaton.add(CellState.OBSTACLE, (4,5))\n",
    "chickenAutomaton.add(CellState.OBSTACLE, (5,5))\n",
    "chickenAutomaton.add(CellState.OBSTACLE, (6,5))\n",
    "chickenAutomaton.add(CellState.OBSTACLE, (7,5))\n",
    "\n",
    "chickenAutomaton.visualize_grid()"
   ]
  },
  {
   "cell_type": "code",
   "execution_count": 10,
   "metadata": {
    "collapsed": false,
    "pycharm": {
     "name": "#%%\n"
    }
   },
   "outputs": [
    {
     "name": "stdout",
     "output_type": "stream",
     "text": [
      "[[ 10.07  9.07  8.07  7.07  6.66  6.24  5.83  5.41  5.00  5.41]\n",
      " [ 9.66  8.66  7.66  6.66  5.66  5.24  4.83  4.41  4.00  4.41]\n",
      " [ 9.24  8.24  7.24  6.24  5.24  4.24  3.83  3.41  3.00  3.41]\n",
      " [ 8.83  7.83  6.83  5.83  4.83  inf  2.83  2.41  2.00  2.41]\n",
      " [ 8.41  7.41  6.41  5.41  4.41  inf  2.41  1.41  1.00  1.41]\n",
      " [ 8.00  7.00  6.00  5.00  4.00  inf  2.00  1.00  0.00  1.00]\n",
      " [ 8.41  7.41  6.41  5.41  4.41  inf  2.41  1.41  1.00  1.41]\n",
      " [ 8.83  7.83  6.83  5.83  4.83  inf  2.83  2.41  2.00  2.41]\n",
      " [ 9.24  8.24  7.24  6.24  5.24  4.24  3.83  3.41  3.00  3.41]\n",
      " [ 9.66  8.66  7.66  6.66  5.66  5.24  4.83  4.41  4.00  4.41]]\n"
     ]
    }
   ],
   "source": [
    "## Compute Utilities without smart obstacle avoidance\n",
    "chickenAutomaton.print_utilities(smart_obstacle_avoidance=False)"
   ]
  },
  {
   "cell_type": "code",
   "execution_count": 11,
   "metadata": {
    "collapsed": false,
    "pycharm": {
     "name": "#%%\n"
    }
   },
   "outputs": [
    {
     "name": "stdout",
     "output_type": "stream",
     "text": [
      "[[ 10.07  9.07  8.07  7.07  6.66  6.24  5.83  5.41  5.00  5.41]\n",
      " [ 9.66  8.66  7.66  6.66  5.66  5.24  4.83  4.41  4.00  4.41]\n",
      " [ 9.24  8.24  7.24  6.24  5.24  4.24  3.83  3.41  3.00  3.41]\n",
      " [ 9.66  8.66  7.66  6.66  5.66  inf  2.83  2.41  2.00  2.41]\n",
      " [ 10.07  9.07  8.07  7.07  6.66  inf  2.41  1.41  1.00  1.41]\n",
      " [ 10.49  9.49  8.49  8.07  7.66  inf  2.00  1.00  0.00  1.00]\n",
      " [ 10.07  9.07  8.07  7.07  6.66  inf  2.41  1.41  1.00  1.41]\n",
      " [ 9.66  8.66  7.66  6.66  5.66  inf  2.83  2.41  2.00  2.41]\n",
      " [ 9.24  8.24  7.24  6.24  5.24  4.24  3.83  3.41  3.00  3.41]\n",
      " [ 9.66  8.66  7.66  6.66  5.66  5.24  4.83  4.41  4.00  4.41]]\n"
     ]
    }
   ],
   "source": [
    "## Compute Utilities with smart obstacle avoidance\n",
    "chickenAutomaton.print_utilities(smart_obstacle_avoidance=True)"
   ]
  },
  {
   "cell_type": "code",
   "execution_count": 12,
   "metadata": {},
   "outputs": [
    {
     "name": "stdout",
     "output_type": "stream",
     "text": [
      "Iteration 0:\n",
      "[                            ]\n",
      "[                            ]\n",
      "[                            ]\n",
      "[               O            ]\n",
      "[               O            ]\n",
      "[P              O        T   ]\n",
      "[               O            ]\n",
      "[               O            ]\n",
      "[                            ]\n",
      "[                            ]\n",
      "Iteration 1:\n",
      "[                            ]\n",
      "[                            ]\n",
      "[                            ]\n",
      "[               O            ]\n",
      "[               O            ]\n",
      "[               O        T   ]\n",
      "[   P           O            ]\n",
      "[               O            ]\n",
      "[                            ]\n",
      "[                            ]\n",
      "Iteration 2:\n",
      "[                            ]\n",
      "[                            ]\n",
      "[                            ]\n",
      "[               O            ]\n",
      "[               O            ]\n",
      "[               O        T   ]\n",
      "[               O            ]\n",
      "[      P        O            ]\n",
      "[                            ]\n",
      "[                            ]\n",
      "Iteration 3:\n",
      "[                            ]\n",
      "[                            ]\n",
      "[                            ]\n",
      "[               O            ]\n",
      "[               O            ]\n",
      "[               O        T   ]\n",
      "[               O            ]\n",
      "[               O            ]\n",
      "[         P                  ]\n",
      "[                            ]\n",
      "Iteration 4:\n",
      "[                            ]\n",
      "[                            ]\n",
      "[                            ]\n",
      "[               O            ]\n",
      "[               O            ]\n",
      "[               O        T   ]\n",
      "[               O            ]\n",
      "[               O            ]\n",
      "[            P               ]\n",
      "[                            ]\n",
      "Iteration 5:\n",
      "[                            ]\n",
      "[                            ]\n",
      "[                            ]\n",
      "[               O            ]\n",
      "[               O            ]\n",
      "[               O        T   ]\n",
      "[               O            ]\n",
      "[               O            ]\n",
      "[               P            ]\n",
      "[                            ]\n",
      "Iteration 6:\n",
      "[                            ]\n",
      "[                            ]\n",
      "[                            ]\n",
      "[               O            ]\n",
      "[               O            ]\n",
      "[               O        T   ]\n",
      "[               O            ]\n",
      "[               O  P         ]\n",
      "[                            ]\n",
      "[                            ]\n",
      "Iteration 7:\n",
      "[                            ]\n",
      "[                            ]\n",
      "[                            ]\n",
      "[               O            ]\n",
      "[               O            ]\n",
      "[               O        T   ]\n",
      "[               O     P      ]\n",
      "[               O            ]\n",
      "[                            ]\n",
      "[                            ]\n",
      "Iteration 8:\n",
      "[                            ]\n",
      "[                            ]\n",
      "[                            ]\n",
      "[               O            ]\n",
      "[               O            ]\n",
      "[               O        T   ]\n",
      "[               O            ]\n",
      "[               O            ]\n",
      "[                            ]\n",
      "[                            ]\n"
     ]
    }
   ],
   "source": [
    "num_iter = 8\n",
    "chickenAutomaton.simulate_next_n(num_iter, smart_obstacle_avoidance=True)\n",
    "\n",
    "for i in range(num_iter + 1):\n",
    "    print(f'Iteration {i}:')\n",
    "    chickenAutomaton.visualize_grid(iteration=i)"
   ]
  }
 ],
 "metadata": {
  "interpreter": {
   "hash": "9d1a0f5ee93e8ea41525e734c1178b150c3383b451469805b56a05295a9fb3ab"
  },
  "kernelspec": {
   "display_name": "Python 3.9.5 64-bit ('mlcs': venv)",
   "name": "python3"
  },
  "language_info": {
   "codemirror_mode": {
    "name": "ipython",
    "version": 3
   },
   "file_extension": ".py",
   "mimetype": "text/x-python",
   "name": "python",
   "nbconvert_exporter": "python",
   "pygments_lexer": "ipython3",
   "version": "3.9.5"
  },
  "orig_nbformat": 4
 },
 "nbformat": 4,
 "nbformat_minor": 2
}
