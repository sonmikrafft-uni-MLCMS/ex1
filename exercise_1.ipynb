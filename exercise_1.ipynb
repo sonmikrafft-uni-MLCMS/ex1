{
 "cells": [
  {
   "cell_type": "markdown",
   "metadata": {},
   "source": [
    "# Task 1 - Setting up the modelling environment"
   ]
  },
  {
   "cell_type": "code",
   "execution_count": null,
   "metadata": {},
   "outputs": [],
   "source": [
    "import tkinter as tk\n",
    "from helpers.gui import GUI\n",
    "\n",
    "root = tk.Tk()\n",
    "gui = GUI(root, 'scenario_0.csv')\n",
    "root.mainloop()"
   ]
  },
  {
   "cell_type": "code",
   "execution_count": 1,
   "metadata": {},
   "outputs": [
    {
     "name": "stdout",
     "output_type": "stream",
     "text": [
      "[                            ]\n",
      "[   P                        ]\n",
      "[      O                     ]\n",
      "[         T                  ]\n",
      "[                            ]\n",
      "[                            ]\n",
      "[                            ]\n",
      "[                            ]\n",
      "[                            ]\n",
      "[                            ]\n",
      "[[ 4.83  3.83  3.41  3.00  3.41  3.83  4.24  5.24  6.24  7.24]\n",
      " [ 3.83  3.41  2.41  2.00  2.41  2.83  3.83  4.83  5.83  6.83]\n",
      " [ 3.41  2.41  inf  1.00  1.41  2.41  3.41  4.41  5.41  6.41]\n",
      " [ 3.00  2.00  1.00  0.00  1.00  2.00  3.00  4.00  5.00  6.00]\n",
      " [ 3.41  2.41  1.41  1.00  1.41  2.41  3.41  4.41  5.41  6.41]\n",
      " [ 3.83  2.83  2.41  2.00  2.41  2.83  3.83  4.83  5.83  6.83]\n",
      " [ 4.24  3.83  3.41  3.00  3.41  3.83  4.24  5.24  6.24  7.24]\n",
      " [ 5.24  4.83  4.41  4.00  4.41  4.83  5.24  5.66  6.66  7.66]\n",
      " [ 6.24  5.83  5.41  5.00  5.41  5.83  6.24  6.66  7.07  8.07]\n",
      " [ 7.24  6.83  6.41  6.00  6.41  6.83  7.24  7.66  8.07  8.49]]\n"
     ]
    }
   ],
   "source": [
    "from helpers.cellular_automaton import CellState, CellularAutomaton\n",
    "\n",
    "myCellularAutomaton = CellularAutomaton((10, 10))\n",
    "myCellularAutomaton.add(CellState.PEDESTRIAN, (1,1))\n",
    "myCellularAutomaton.add(CellState.OBSTACLE, (2,2))\n",
    "myCellularAutomaton.add(CellState.TARGET, (3,3))\n",
    "myCellularAutomaton.visualize_grid()\n",
    "\n",
    "myCellularAutomaton.set_utilities(True)"
   ]
  }
 ],
 "metadata": {
  "interpreter": {
   "hash": "9d1a0f5ee93e8ea41525e734c1178b150c3383b451469805b56a05295a9fb3ab"
  },
  "kernelspec": {
   "name": "python3",
   "language": "python",
   "display_name": "Python 3 (ipykernel)"
  },
  "language_info": {
   "codemirror_mode": {
    "name": "ipython",
    "version": 3
   },
   "file_extension": ".py",
   "mimetype": "text/x-python",
   "name": "python",
   "nbconvert_exporter": "python",
   "pygments_lexer": "ipython3",
   "version": "3.9.5"
  },
  "orig_nbformat": 4
 },
 "nbformat": 4,
 "nbformat_minor": 2
}